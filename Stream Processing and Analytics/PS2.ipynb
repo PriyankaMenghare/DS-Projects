{
 "cells": [
  {
   "cell_type": "markdown",
   "metadata": {
    "application/vnd.databricks.v1+cell": {
     "cellMetadata": {
      "byteLimit": 2048000,
      "rowLimit": 10000
     },
     "inputWidgets": {},
     "nuid": "25887782-a0ca-4a13-8361-a3ec84d1cf3a",
     "showTitle": false,
     "title": ""
    }
   },
   "source": [
    "# Import Libraries/Dataset                                                             "
   ]
  },
  {
   "cell_type": "code",
   "execution_count": 0,
   "metadata": {
    "application/vnd.databricks.v1+cell": {
     "cellMetadata": {
      "byteLimit": 2048000,
      "rowLimit": 10000
     },
     "inputWidgets": {},
     "nuid": "24a46508-4aab-4e2e-8f01-ee06341679ff",
     "showTitle": false,
     "title": ""
    }
   },
   "outputs": [],
   "source": [
    "# Import required libraries\n",
    "import numpy as np\n",
    "import pandas as pd\n",
    "import matplotlib.pyplot as plt\n",
    "from pyspark.sql import SparkSession\n",
    "from pyspark.sql.functions import col\n",
    "from pyspark.sql.functions import when\n",
    "from pyspark.ml.evaluation import RegressionEvaluator\n",
    "from pyspark.ml.feature import VectorAssembler, StandardScaler\n",
    "from pyspark.ml.tuning import ParamGridBuilder, CrossValidator\n",
    "from pyspark.sql.functions import to_date, year, month, dayofmonth\n",
    "from pyspark.ml.regression import LinearRegression, RandomForestRegressor, GBTRegressor"
   ]
  },
  {
   "cell_type": "code",
   "execution_count": 0,
   "metadata": {
    "application/vnd.databricks.v1+cell": {
     "cellMetadata": {
      "byteLimit": 2048000,
      "rowLimit": 10000
     },
     "inputWidgets": {},
     "nuid": "43c0aeaa-a457-41da-8e06-67dc51ec5774",
     "showTitle": false,
     "title": ""
    }
   },
   "outputs": [],
   "source": [
    "# Create a SparkSession\n",
    "spark = SparkSession.builder.appName(\"COVID-19 Dataset Analysis\").getOrCreate()"
   ]
  },
  {
   "cell_type": "code",
   "execution_count": 0,
   "metadata": {
    "application/vnd.databricks.v1+cell": {
     "cellMetadata": {
      "byteLimit": 2048000,
      "rowLimit": 10000
     },
     "inputWidgets": {},
     "nuid": "53db21fa-9f61-4b18-bbf4-065058a38290",
     "showTitle": false,
     "title": ""
    }
   },
   "outputs": [],
   "source": [
    "# Download the dataset\n",
    "df = spark.read.csv(\"/FileStore/tables/covid_dataset.csv\", header=True, inferSchema=True)\n"
   ]
  },
  {
   "cell_type": "markdown",
   "metadata": {
    "application/vnd.databricks.v1+cell": {
     "cellMetadata": {
      "byteLimit": 2048000,
      "rowLimit": 10000
     },
     "inputWidgets": {},
     "nuid": "ccf6494b-dcf1-42be-bea2-bd29a86fe8e4",
     "showTitle": false,
     "title": ""
    }
   },
   "source": [
    "# Data Visualization and Exploration                                                        "
   ]
  },
  {
   "cell_type": "code",
   "execution_count": 0,
   "metadata": {
    "application/vnd.databricks.v1+cell": {
     "cellMetadata": {
      "byteLimit": 2048000,
      "rowLimit": 10000
     },
     "inputWidgets": {},
     "nuid": "425a6dd7-a33d-48de-ad34-fe765058980a",
     "showTitle": false,
     "title": ""
    }
   },
   "outputs": [
    {
     "name": "stdout",
     "output_type": "stream",
     "text": [
      "+----------+-------+---------+---------+------+\n",
      "|      Date|Country|Confirmed|Recovered|Deaths|\n",
      "+----------+-------+---------+---------+------+\n",
      "|2020-05-01|  India|    37257|    10007|  1223|\n",
      "|2020-05-02|  India|    39699|    10819|  1323|\n",
      "|2020-05-03|  India|    42505|    11775|  1391|\n",
      "|2020-05-04|  India|    46437|    12847|  1566|\n",
      "|2020-05-05|  India|    49400|    14142|  1693|\n",
      "+----------+-------+---------+---------+------+\n",
      "only showing top 5 rows\n",
      "\n",
      "None\n"
     ]
    }
   ],
   "source": [
    "# Print at least 5 rows for sanity check\n",
    "print(df.show(5))"
   ]
  },
  {
   "cell_type": "code",
   "execution_count": 0,
   "metadata": {
    "application/vnd.databricks.v1+cell": {
     "cellMetadata": {
      "byteLimit": 2048000,
      "rowLimit": 10000
     },
     "inputWidgets": {},
     "nuid": "6775dfd8-9793-4efa-a5ff-5efdf3203555",
     "showTitle": false,
     "title": ""
    }
   },
   "outputs": [
    {
     "name": "stdout",
     "output_type": "stream",
     "text": [
      "  summary Country           Confirmed          Recovered             Deaths\n",
      "0   count     150                 150                150                150\n",
      "1    mean    None  1750493.6333333333         1290401.96           33359.66\n",
      "2  stddev    None  1798908.1755558893  1453386.927836257  28539.64790323579\n",
      "3     min   India               37257              10007               1223\n",
      "4     max   India             5992532            4941627              94503\n",
      "Dataset Shape: 150 5\n"
     ]
    }
   ],
   "source": [
    "# Print the description and shape of the dataset\n",
    "print(df.describe().toPandas())\n",
    "print(\"Dataset Shape:\", df.count(), len(df.columns))"
   ]
  },
  {
   "cell_type": "code",
   "execution_count": 0,
   "metadata": {
    "application/vnd.databricks.v1+cell": {
     "cellMetadata": {
      "byteLimit": 2048000,
      "rowLimit": 10000
     },
     "inputWidgets": {},
     "nuid": "08dff462-2e6c-48f9-95b5-76855e66bb2e",
     "showTitle": false,
     "title": ""
    }
   },
   "outputs": [
    {
     "name": "stdout",
     "output_type": "stream",
     "text": [
      "+-------+--------------+-----------+--------------+\n",
      "|Country|sum(Recovered)|sum(Deaths)|sum(Confirmed)|\n",
      "+-------+--------------+-----------+--------------+\n",
      "|  India|     193560294|    5003949|     262574045|\n",
      "+-------+--------------+-----------+--------------+\n",
      "\n"
     ]
    }
   ],
   "source": [
    "# Provide appropriate visualization to get an insight about the dataset\n",
    "df_agg = df.select(\"Date\", \"Country\", \"Confirmed\", \"Recovered\", \"Deaths\").groupBy(\"Country\").agg({\"Confirmed\": \"sum\", \"Recovered\": \"sum\", \"Deaths\": \"sum\"})\n",
    "df_agg.show()"
   ]
  },
  {
   "cell_type": "code",
   "execution_count": 0,
   "metadata": {
    "application/vnd.databricks.v1+cell": {
     "cellMetadata": {
      "byteLimit": 2048000,
      "rowLimit": 10000
     },
     "inputWidgets": {},
     "nuid": "adb594ef-bd61-4afc-a93f-9bf05746f8de",
     "showTitle": false,
     "title": ""
    }
   },
   "outputs": [
    {
     "data": {
      "image/png": "[encoded data removed]"
     },
     "metadata": {
      "application/vnd.databricks.v1+output": {
       "addedWidgets": {},
       "arguments": {},
       "data": "data:image/png;base64,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\n",
       "datasetInfos": [],
       "metadata": {},
       "removedWidgets": [],
       "type": "image"
      }
     },
     "output_type": "display_data"
    }
   ],
   "source": [
    "pdf_agg = df_agg.toPandas()\n",
    "plt.figure(figsize=(6, 4))\n",
    "\n",
    "plt.bar(['Confirmed', 'Recovered', 'Deaths'], \n",
    "        [pdf_agg['sum(Confirmed)'].values[0], \n",
    "         pdf_agg['sum(Recovered)'].values[0], \n",
    "         pdf_agg['sum(Deaths)'].values[0]])\n",
    "plt.title('COVID-19 Cases in India')\n",
    "plt.xlabel('Case Type')\n",
    "plt.ylabel('Number of Cases')\n",
    "plt.yscale('log') \n",
    "plt.ylim(100000, 300000000) \n",
    "plt.show()"
   ]
  },
  {
   "cell_type": "code",
   "execution_count": 0,
   "metadata": {
    "application/vnd.databricks.v1+cell": {
     "cellMetadata": {
      "byteLimit": 2048000,
      "rowLimit": 10000
     },
     "inputWidgets": {},
     "nuid": "0df38ce0-d99e-4cad-bf54-90a9e1c322d4",
     "showTitle": false,
     "title": ""
    }
   },
   "outputs": [
    {
     "name": "stdout",
     "output_type": "stream",
     "text": [
      "0.9984272449544407\n",
      "0.9925951913291563\n",
      "0.9849329385483047\n"
     ]
    }
   ],
   "source": [
    "# Try exploring the data and see what insights can be drawn from the dataset\n",
    "print(df.corr(\"Confirmed\", \"Recovered\"))\n",
    "print(df.corr(\"Confirmed\", \"Deaths\"))\n",
    "print(df.corr(\"Recovered\", \"Deaths\"))"
   ]
  },
  {
   "cell_type": "markdown",
   "metadata": {
    "application/vnd.databricks.v1+cell": {
     "cellMetadata": {
      "byteLimit": 2048000,
      "rowLimit": 10000
     },
     "inputWidgets": {},
     "nuid": "54c31cd1-85d8-449b-9124-1de0703fe460",
     "showTitle": false,
     "title": ""
    }
   },
   "source": [
    "The correlations suggest that the variables are closely related and might be influenced by similar factors.\n",
    "\n",
    "The extremely strong correlation between Confirmed cases and Recovered cases implies a consistent recovery rate."
   ]
  },
  {
   "cell_type": "markdown",
   "metadata": {
    "application/vnd.databricks.v1+cell": {
     "cellMetadata": {
      "byteLimit": 2048000,
      "rowLimit": 10000
     },
     "inputWidgets": {},
     "nuid": "1ef1ce43-cd1b-4d91-a86c-1f4be6ce14dc",
     "showTitle": false,
     "title": ""
    }
   },
   "source": [
    "# Data Pre-processing and cleaning"
   ]
  },
  {
   "cell_type": "code",
   "execution_count": 0,
   "metadata": {
    "application/vnd.databricks.v1+cell": {
     "cellMetadata": {
      "byteLimit": 2048000,
      "rowLimit": 10000
     },
     "inputWidgets": {},
     "nuid": "7a1b4d37-11fc-426b-a90d-262722b31b8d",
     "showTitle": false,
     "title": ""
    }
   },
   "outputs": [
    {
     "data": {
      "text/html": [
       "<div>\n",
       "<style scoped>\n",
       "    .dataframe tbody tr th:only-of-type {\n",
       "        vertical-align: middle;\n",
       "    }\n",
       "\n",
       "    .dataframe tbody tr th {\n",
       "        vertical-align: top;\n",
       "    }\n",
       "\n",
       "    .dataframe thead th {\n",
       "        text-align: right;\n",
       "    }\n",
       "</style>\n",
       "<table border=\"1\" class=\"dataframe\">\n",
       "  <thead>\n",
       "    <tr style=\"text-align: right;\">\n",
       "      <th></th>\n",
       "      <th>Date</th>\n",
       "      <th>Country</th>\n",
       "      <th>Confirmed</th>\n",
       "      <th>Recovered</th>\n",
       "      <th>Deaths</th>\n",
       "    </tr>\n",
       "  </thead>\n",
       "  <tbody>\n",
       "    <tr>\n",
       "      <th>0</th>\n",
       "      <td>0</td>\n",
       "      <td>0</td>\n",
       "      <td>0</td>\n",
       "      <td>0</td>\n",
       "      <td>0</td>\n",
       "    </tr>\n",
       "  </tbody>\n",
       "</table>\n",
       "</div>"
      ]
     },
     "metadata": {
      "application/vnd.databricks.v1+output": {
       "addedWidgets": {},
       "arguments": {},
       "data": "<div>\n<style scoped>\n    .dataframe tbody tr th:only-of-type {\n        vertical-align: middle;\n    }\n\n    .dataframe tbody tr th {\n        vertical-align: top;\n    }\n\n    .dataframe thead th {\n        text-align: right;\n    }\n</style>\n<table border=\"1\" class=\"dataframe\">\n  <thead>\n    <tr style=\"text-align: right;\">\n      <th></th>\n      <th>Date</th>\n      <th>Country</th>\n      <th>Confirmed</th>\n      <th>Recovered</th>\n      <th>Deaths</th>\n    </tr>\n  </thead>\n  <tbody>\n    <tr>\n      <th>0</th>\n      <td>0</td>\n      <td>0</td>\n      <td>0</td>\n      <td>0</td>\n      <td>0</td>\n    </tr>\n  </tbody>\n</table>\n</div>",
       "datasetInfos": [],
       "metadata": {},
       "removedWidgets": [],
       "textData": null,
       "type": "htmlSandbox"
      }
     },
     "output_type": "display_data"
    }
   ],
   "source": [
    "\n",
    "string_columns = ['Date', 'Country']\n",
    "numeric_columns = ['Confirmed','Recovered','Deaths']\n",
    "missing_values = {} \n",
    "for index, column in enumerate(df.columns):\n",
    "    if column in string_columns:    \n",
    "        missing_count = df.filter(col(column).eqNullSafe(None) | col(column).isNull()).count()\n",
    "        missing_values.update({column:missing_count})\n",
    "    if column in numeric_columns:  # check zeroes, None, NaN\n",
    "        missing_count = df.where(col(column).isin([0,None,np.nan])).count()\n",
    "        missing_values.update({column:missing_count})\n",
    "missing_df = pd.DataFrame.from_dict([missing_values])\n",
    "missing_df"
   ]
  },
  {
   "cell_type": "markdown",
   "metadata": {
    "application/vnd.databricks.v1+cell": {
     "cellMetadata": {
      "byteLimit": 2048000,
      "rowLimit": 10000
     },
     "inputWidgets": {},
     "nuid": "1e47db5c-7a82-4372-9abb-6d25939a3b54",
     "showTitle": false,
     "title": ""
    }
   },
   "source": [
    "There is no null data in the dataset. No need to handle missing/null data logic."
   ]
  },
  {
   "cell_type": "markdown",
   "metadata": {
    "application/vnd.databricks.v1+cell": {
     "cellMetadata": {
      "byteLimit": 2048000,
      "rowLimit": 10000
     },
     "inputWidgets": {},
     "nuid": "260e34dc-cb8e-4071-8509-cfb0cec2789f",
     "showTitle": false,
     "title": ""
    }
   },
   "source": [
    "When working with count data, such as the number of occurrences of a particular event, normalization can be misleading. Count data often follows a Poisson distribution, and normalization can alter the underlying distribution. Therefore,there is no need of normalization or any other feature transformation techniques."
   ]
  },
  {
   "cell_type": "code",
   "execution_count": 0,
   "metadata": {
    "application/vnd.databricks.v1+cell": {
     "cellMetadata": {
      "byteLimit": 2048000,
      "rowLimit": 10000
     },
     "inputWidgets": {},
     "nuid": "1daa51fc-789a-4fa8-9825-bc0e541f74ba",
     "showTitle": false,
     "title": ""
    }
   },
   "outputs": [
    {
     "data": {
      "image/png": "[encoded data removed]"
     },
     "metadata": {
      "application/vnd.databricks.v1+output": {
       "addedWidgets": {},
       "arguments": {},
       "data": "data:image/png;base64,iVBORw0KGgoAAAANSUhEUgAAAyMAAALICAYAAABsJy8wAAAAOXRFWHRTb2Z0d2FyZQBNYXRwbG90bGliIHZlcnNpb24zLjUuMSwgaHR0cHM6Ly9tYXRwbG90bGliLm9yZy/YYfK9AAAACXBIWXMAAAsTAAALEwEAmpwYAAA+0UlEQVR4nO3deZhlZXUv/u/qphkUkUmawQEFAugVQRkSBTEqOAvmOmA0YqKSmzjEoEaN+TkQ58RokmticIigJnrFCQUHBEVQGVoFAZXQgkq3TILMg9D9/v6o3Vi03V3ndO/qTVV9Ps+znzp7OGevs+lD1Tprvfut1loAAADWt3lDBwAAAMxNkhEAAGAQkhEAAGAQkhEAAGAQkhEAAGAQkhEAAGAQkhGAMVTVC6vq9HV4/per6vA+Y1rfqur+VXVjVc0fOhYAZjbJCDDjVNUfV9Wi7g/iy7o/8PcfOq6VVdWbq+rjk7e11p7UWjtmGs710apqVXXIStvf221/4Yiv87Oqevyajmmt/aK1tmlrbdk6hAwAkhFgZqmqI5O8L8nbkyxMcv8k/5bkkDU8bXWvtcEo22aQ/0nyghUr3Xt5dpKf9nWCGX59ALibkYwAM0ZV3TvJUUle2lr7bGvtptba7a21L7bWXtMds1FVva+qftkt76uqjbp9j6mqJVX12qq6PMl/dtWL46rq41V1fZIXVtW9q+rDXdVlaVW9dXUtSVX1z1V1aVVdX1Xfq6oDuu1PTPK3SZ7TVXDO7bZ/s6pe3D2eV1V/V1U/r6orq+rY7j2mqnbsKhqHV9UvqupXVfWGKS7RF5PsX1VbdOtPTPLDJJdPinenqjqlqq7uXvMTVbV5t+9jmUjuvtjF/DeT4nhRVf0iySmTtm1QVVt21/Rp3WtsWlWLq+oFAYApSEaAmeQPkmyc5HNrOOYNSX4/yZ5JHpZk3yR/N2n/tkm2TPKAJEd02w5JclySzZN8IslHk9yRZOckeyU5OMmLV3O+s7tzbZnkv5J8uqo2bq19JRPVm091LU0PW8VzX9gtf5jkQUk2TfJ/Vzpm/yS7JnlckjdW1e5reO+3JvlCksO69RckOXalYyrJO5Jsn2T3JPdL8uYkaa39SZJfJHlaF/O7Jz3vwO74J0x+sdbaNUn+LMkHq2qbJO9Nck5rbeXzAsDvkIwAM8lWSX7VWrtjDcc8L8lRrbUrW2tXJXlLkj+ZtH95kje11m5rrd3Sbftua+3zrbXlSTZL8uQkr+wqL1dm4g/sw7IKrbWPt9aubq3d0Vp7T5KNMpE8jOJ5Sf6ptXZxa+3GJK9PcthKrVBvaa3d0lo7N8m5mUiw1uTYJC/oqh0HJvn8SvEubq2d1L3/q5L8U3fcVN7cXY9bVt7RWvtakk8nOTkT1+7PR3g9AIjeX2AmuTrJ1lW1wRoSku2T/HzS+s+7bStc1Vq7daXnXDrp8QOSLEhyWVWt2DZvpWPuVFWvTvKi7hwtE8nM1lO/ldXGukEmxsKscPmkxzdnonqyWq2106vqPpmoEH2ptXbLpPeRqlqY5J+THJDkXpl4b78eIdZVvv9Jjk7ysiRvb61dPcLrAYDKCDCjfDfJbUkOXcMxv8xEQrHC/bttK7RVPGfytku7c2zdWtu8WzZrrT1k5Sd140P+JhODxLdorW2e5LpMtEKt7lxTxXpHkiumeN5UPp7kVfndFq1konWsJXloa22zJM/Pb+NNVh/zat9LN57m6O58f1lVO69N0ADMPZIRYMZorV2X5I1J3l9Vh1bVPapqQVU9qapWjG/47yR/V1X3qaqtu+M/vrrXXMU5LkvytSTvqarNukHmO1XVqlqZ7pWJ5OGqJBtU1RszURlZ4YokO1bV6v5f+99J/rqqHlhVm+a3Y0zW1IY2in9JclCSb60m5huTXFdVOyR5zUr7r8jE+JVx/G0mkpU/S/IPSY41BwkAo5CMADNKNy7jyEwMSr8qE5WMl+W3YyPemmRRJu4idV6S73fbxvGCJBsm+VEmWpiOS7LdKo77apKvZOKWuj/PxADyye1Mn+5+Xl1V31/F8z+S5GOZSBou6Z7/8jFj/R2ttWtaaye31lZVzXhLkodnooJzQpLPrrT/HZlI5q7tWtDWqKoekYn/Hi/o5h15VyYSk9ety3sAYG6oVf+uAgAAmF4qIwAAwCAkIwAAMEdU1Ue6iXbPX83+qqp/6Saw/WFVPXzSvsOr6qJuObyPeCQjAAAwd3w0yRPXsP9JSXbpliOS/HuSVNWWSd6UZL9MTCj8pqraYl2DkYwAAMAc0Vr7VpJr1nDIIUmObRPOSLJ5VW2X5AlJTupukvLrJCdlzUnNSKZ90sMTFuxqhDysJ7Wgpj4I6EW73a83WJ+ecvuFd/tfcneHv3ufesf//HkmKhorHN1aO3qMl9ghd70z5JJu2+q2rxMzsAMAwCzRJR7jJB+D0qYFAACssDTJ/Sat37fbtrrt60RlBAAAejBL2qWPT/KyqvpkJgarX9dau6yqvprk7ZMGrR+c5PXrejLJCAAAzBFV9d9JHpNk66pakok7ZC1IktbaB5KcmOTJSRYnuTnJn3b7rqmqv09ydvdSR7XW1jQQfiSSEQAAmCNaa8+dYn9L8tLV7PtIko/0GY9kBAAAejBvg1nRprVeGcAOAAAMQmUEAAB6UAt8zz8uVwwAABiEZAQAABiENi0AAOiBAezjUxkBAAAGoTICAAA9mCUzsK9XKiMAAMAgJCMAAMAgtGkBAEAPDGAfn8oIAAAwCMkIAAAwCG1aAADQA3fTGp/KCAAAMAiVEQAA6IEB7ONTGQEAAAYhGQEAAAahTQsAAHpQ87VpjUtlBAAAGITKCAAA9GCeysjYVEYAAIBBSEYAAIBBaNMCAIAe1DxtWuNSGQEAAAYhGQEAAAahTQsAAHpQ833PPy5XDAAAGITKCAAA9MA8I+NTGQEAAAYhGQEAAAahTQsAAHpgnpHxqYwAAACDUBkBAIAeGMA+PpURAABgEJIRAABgENq0AACgB6VNa2wqIwAAwCAkIwAAwCC0aQEAQA9qnu/5x+WKAQAAg1AZAQCAHpiBfXwqIwAAwCAkIwAAwCC0aQEAQA/mmWdkbCojAADAIFRGAACgBwawj09lBAAAGIRkBAAAGIQ2LQAA6IEZ2MfnigEAAIOQjAAAAIPQpgUAAD1wN63xqYwAAACDUBkBAIAemIF9fCojAADAICQjAADAILRpAQBADwxgH5/KCAAAMAiVEQAA6IEZ2MfnigEAAIOQjAAAAIPQpgUAAD0wgH18KiMAAMAgJCMAAMAgtGkBAEAPtGmNT2UEAAAYhMoIAAD0QGVkfCojAADAICQjAADAILRpAQBAD2qe7/nH5YoBAACDUBkBAIAezJtvAPu4VEYAAIBBSEYAAGAOqaonVtWFVbW4ql63iv3vrapzuuV/quraSfuWTdp3/LrGok0LAAB6MBPmGamq+Unen+SgJEuSnF1Vx7fWfrTimNbaX086/uVJ9pr0Ere01vbsKx6VEQAAmDv2TbK4tXZxa+03ST6Z5JA1HP/cJP89XcFIRgAAYO7YIcmlk9aXdNt+R1U9IMkDk5wyafPGVbWoqs6oqkPXNRhtWgAA0IO7wzwjVXVEkiMmbTq6tXb0Wr7cYUmOa60tm7TtAa21pVX1oCSnVNV5rbWfrm28khEAAJglusRjTcnH0iT3m7R+327bqhyW5KUrvf7S7ufFVfXNTIwnkYwAAMCQZsIA9iRnJ9mlqh6YiSTksCR/vPJBVbVbki2SfHfSti2S3Nxau62qtk7yqCTvXpdgJCMAADBHtNbuqKqXJflqkvlJPtJau6CqjkqyqLW24na9hyX5ZGutTXr67kn+o6qWZ2Ls+Tsn34VrbUhGAABgDmmtnZjkxJW2vXGl9Tev4nnfSfLQPmORjAAAQA9mSJvW3crwQ/4BAIA5SWUEAAB6cHe4te9M44oBAACDkIwAAACD0KYFAAA9MIB9fCojAADAICQjAADAIEZKRqrq3VW1WVUtqKqTq+qqqnr+dAcHAAAzRc2bN/gy04wa8cGtteuTPDXJz5LsnOQ10xUUAAAw+406gH3FcU9J8unW2nVVBugAAMCd/H08tlGTkS9V1U+S3JLkL6rqPklunb6wAACA2W6kNq3W2uuSPDLJ3q2125PclOSQ6QwMAACY3caZZ2S3JDtW1eTnHNtzPAAAMCOZZ2R8IyUjVfWxJDslOSfJsm5zi2QEAABYS6NWRvZO8uDWWpvOYAAAYKaaibfWHdqoV+z8JNtOZyAAAMDcssbKSFV9MRPtWPdK8qOqOivJbSv2t9aePr3hAQAAs9VUbVr/uF6iYL26z8EH5MH/9IbU/Hm59COfzk//4YN32b/J/bfPHh98eza8z5a5/Zprc87hr8mtS69Ikuz29ldnmycdmCS56O3/lss+/eX1Hj/MJFsftH8e/A/d5+2jx+Xi99z187bx/bbPHh94Wzbcesvc/uvrcu6Lfvt52/Wtr842TzwwNW9efnXKd/KjV79tiLcAs8IeH3x7tnnyY/KbK6/Ot/Z62tDhMEsZwD6+NbZptdZOba2dmuTJKx5P3rZ+QqRX8+blIf/yxpz1tBfn1D2eku0Pe2o23X2nuxyy+7temyUf/3xOe/jTc9Fb/y27vu1VSZJtnnRgNtvrwTlt70Pz7Uc9Ow868kXZ4F73HOJdwMwwb14e8t435uxDX5JvPfyp2f5ZT8mmu630eXvH32Tpf30hp+93SBa/4/3Z9S1HJkk232+vbPEHD89p+x6Sb+39tNz7EQ/NlgfsO8S7gFlhyTGfzVlPffHQYQArGXXMyEGr2PakPgNh/dh83z1y809/nlsuWZJ2++355adOyMKnPe4ux2y6+065+htnJEmu/uYZd+7fdPedc81pi9KWLcuym2/JDeddmPs84dHr/T3ATLH53nvk5p/+Irf8bOLzdtlxJ2bhU1f6vO22U67+Zvd5O/XMbLNif2uZv/FGmbfhgszbaMPMW7BBbrvyV+v7LcCscc3pi3L7NdcNHQawkjUmI1X1F1V1XpJdq+qHk5ZLkpy3fkKkTxtvvzC3LLn8zvVbl16RjXdYeJdjrv/hT7LtMw5Okmx76EFZsNmmWbDl5rn+hz/JfZ5wQOZtsnEWbLVFtjpwv2x8X/c1gNXZePuFuXXpZXeu37L08my0/V0/bzecd2G2PWTi+56Fh/z283btWefk6lPPzOMuPi2Pu/i0XPX103PThRev1/gBGE/Nmzf4MtNMFfF/JXlakuO7nyuWR7TWnre6J1XVEVW1qKoWfWX5tX3Fynry49e+O1sdsE/2P/tz2fLR++aWJZenLVuWX33927nqy6fmkad9Mnt9/D359ZnnpC1fPnS4MKP9+G/fnS0P2CeP+u5ns+X+++SWpROft3s86P7ZdLcH5ZRdHpNTdj4wWx34+9nikY8YOlwA6NUaB7C31q5Lcl2S5yZJVW2TZOMkm1bVpq21X6zmeUcnOTpJTliwq7lJ7kZu/eUV2WRSNWPjHRbeOVh2hdsuuzLfe/bLkyTz73mPbPuMg3PHdTckSRa/8wNZ/M4PJEn2PPYfc9P/XLKeIoeZ59ZfXpGNd9juzvVNdtg2t/3ydz9v33/uK5J0n7dDJz5v9/vTZ+Xas87NsptuTpJc9bVvZYv99syvv/O99fcGABiLAezjG6mWU1VPq6qLklyS5NQkP0viNkoz0HVnn5d77rxjNtnxvqkFC7L9c56SK750yl2OWbDVFklNfJh2fu0RWfLRz0zsmDcvC7bcPElyr4fums0eumt+ddK312f4MKNc973zcs+dH5BNHrBDasGCbPfMJ+eKE1b+vG1+5+dtp9cckSXHTnzebr30smy5/z6p+fNTG2yQLfffJzdq0wJglhl1Bva3Jvn9JF9vre1VVX+Y5PnTFxbTpS1blvP/6qjse8KHUvPnZ8lHP5Mbf7Q4v/emV+Ta752fK790SrY6cN/s9tYj01rLNacvygUvf0uSZN6CDfIH3/hEkuSOG27MOS98TdqyZUO+Hbhba8uW5YIj/z77Hv/hZP68LDn2M7nxx4uzy//38lz3/fNz5QnfyFYH7Jddj/rrpCXXfPvsXPDKo5Ikl33uq9nqMb+fA84+Pq21/Oqk03Plid8Y+B3BzLXnx96TrQ7cNxtuvUUee8mpueiof82l/3nc0GHBnFetTd1FVVWLWmt7V9W5SfZqrS2vqnNbaw+b6rnatGD9qQXKw7C+tNv9eoP16Sm3X3i3/yV35etfMPj/GLZ5x7F3++s02aiVkWuratMkpyX5RFVdmeSm6QsLAACY7UZNRg5JckuSVyZ5XpJ7JzlqmmICAICZZwbeWndoIyUjrbWbquoBSXZprR1TVfdIMn96QwMAAGazUe+m9ZIkxyX5j27TDkk+P00xAQAAc8CobVovTbJvkjOTpLV2UTfnCAAAkKRqRo0dv1sYtbHtttbab1asVNUGSQa/WwAAADBzjZqMnFpVf5tkk6o6KMmnk3xx+sICAABmu1HbtF6X5EVJzkvy50lOTPKh6QoKAABmmnI3rbGNejet5VX1+SSfb61dNb0hAQAAc8Eak5GaGIXzpiQvS9fSVVXLkvxra808IwAA0Kl5BrCPa6pa0l8neVSSfVprW7bWtkyyX5JHVdVfT3t0AADArDVVMvInSZ7bWrtkxYbW2sVJnp/kBdMZGAAAMLtNNWZkQWvtVytvbK1dVVULpikmAACYeQxgH9tUV+w3a7kPAABgjaaqjDysqq5fxfZKsvE0xAMAADOSAezjW2My0lqbv74CAQAA5haNbQAAwCBGnYEdAABYgyrf84/LFQMAAAYhGQEAAAahTQsAAPrgblpjUxkBAAAGoTICAAA9KDOwj80VAwAABiEZAQAABqFNCwAAelAGsI9NZQQAABiEyggAAPTBDOxjc8UAAIBBSEYAAIBBaNMCAIAeGMA+PpURAABgEJIRAABgENq0AACgD/N8zz8uVwwAABiEyggAAPSgygD2camMAAAAg5CMAAAAg9CmBQAAfTCAfWyuGAAAMAiVEQAA6IEZ2MenMgIAAAxCMgIAAAxCmxYAAPShfM8/LlcMAAAYhGQEAAAYhDYtAADog7tpjU1lBAAAGIRkBAAAelA1b/BltDjriVV1YVUtrqrXrWL/C6vqqqo6p1tePGnf4VV1Ubccvq7XTJsWAADMEVU1P8n7kxyUZEmSs6vq+Nbaj1Y69FOttZet9Nwtk7wpyd5JWpLvdc/99drGozICAABzx75JFrfWLm6t/SbJJ5McMuJzn5DkpNbaNV0CclKSJ65LMJIRAADow7wafKmqI6pq0aTliJWi3CHJpZPWl3TbVva/q+qHVXVcVd1vzOeOTJsWAADMEq21o5McvY4v88Uk/91au62q/jzJMUkeu87BrYJkBAAAelDzZkTT0dIk95u0ft9u251aa1dPWv1QkndPeu5jVnruN9clmBlxxQAAgF6cnWSXqnpgVW2Y5LAkx08+oKq2m7T69CQ/7h5/NcnBVbVFVW2R5OBu21pTGQEAgDmitXZHVb0sE0nE/CQfaa1dUFVHJVnUWjs+ySuq6ulJ7khyTZIXds+9pqr+PhMJTZIc1Vq7Zl3ikYwAAEAfambMwN5aOzHJiStte+Okx69P8vrVPPcjST7SVyzatAAAgEFIRgAAgEFo0wIAgD7MjLtp3a24YgAAwCBURgAAoA8zZAD73YnKCAAAMAjJCAAAMAhtWgAA0IMygH1srhgAADAIlREAAOhD+Z5/XK4YAAAwCMkIAAAwCG1aAADQh3nmGRmXyggAADAIyQgAADAIbVoAANCDcjetsbliAADAIFRGAACgDwawj01lBAAAGIRkBAAAGIQ2LQAA6IMB7GNzxQAAgEGojAAAQB/KAPZxqYwAAACDkIwAAACD0KYFAAB9mOd7/nG5YgAAwCAkIwAAwCC0aQEAQB/MMzI2VwwAABiEyggAAPRhnnlGxqUyAgAADEIyAgAADEKbFgAA9MEA9rG5YgAAwCBURgAAoA9lAPu4VEYAAIBBSEYAAIBBaNMCAIA+zPM9/7hcMQAAYBCSEQAAYBDatAAAoA/upjU2lREAAGAQKiMAANAHM7CPzRUDAAAGIRkBAAAGoU0LAAD6YJ6RsbliAADAIFRGAACgD27tOzbJCMwi7fY2dAgwZ9QCf3QArCttWgAAwCBURgAAoA/mGRmbKwYAAAxCMgIAAAxCmxYAAPTB3bTGpjICAAAMQmUEAAD6YAb2sbliAADAICQjAADAILRpAQBAD5oB7GNTGQEAAAahMgIAAH0wA/vYXDEAAGAQkhEAAGAQ2rQAAKAP2rTG5ooBAACDkIwAAACD0KYFAAA9MM/I+FRGAACAQaiMAABAHwxgH5srBgAADEIyAgAADEKbFgAA9MEA9rGpjAAAAIOQjAAAQB/mzRt+GUFVPbGqLqyqxVX1ulXsP7KqflRVP6yqk6vqAZP2Lauqc7rl+HW9ZNq0AABgjqiq+Unen+SgJEuSnF1Vx7fWfjTpsB8k2bu1dnNV/UWSdyd5Trfvltbann3FozICAABzx75JFrfWLm6t/SbJJ5McMvmA1to3Wms3d6tnJLnvdAUjGQEAgB60qsGXqjqiqhZNWo5YKcwdklw6aX1Jt211XpTky5PWN+5e94yqOnRdr5k2LQAAmCVaa0cnObqP16qq5yfZO8mBkzY/oLW2tKoelOSUqjqvtfbTtT2HyggAAMwdS5Pcb9L6fbttd1FVj0/yhiRPb63dtmJ7a21p9/PiJN9Mste6BCMZAQCAPtS84ZepnZ1kl6p6YFVtmOSwJHe5K1ZV7ZXkPzKRiFw5afsWVbVR93jrJI9KMnng+9i0aQEAwBzRWrujql6W5KtJ5if5SGvtgqo6Ksmi1trxSf4hyaZJPl0TEzn+orX29CS7J/mPqlqeiaLGO1e6C9fYJCMAANCDNlplYnCttROTnLjStjdOevz41TzvO0ke2mcsM+OKAQAAs45kBAAAGIQ2LQAA6MPE+ArGoDICAAAMQmUEAAB6MFMGsN+duGIAAMAgJCMAAMAgtGkBAEAfDGAfm8oIAAAwCMkIAAAwCG1aAADQB3fTGpsrBgAADEJlBAAAetAMYB+byggAADAIyQgAADAIbVoAANAHA9jH5ooBAACDUBkBAIAetBjAPi6VEQAAYBCSEQAAYBDatAAAoAfNAPaxuWIAAMAgJCMAAMAgtGkBAEAftGmNzRUDAAAGoTICAAA9aGWekXGpjAAAAIOQjAAAAIPQpgUAAD0wz8j4XDEAAGAQKiMAANAHA9jHpjICAAAMQjICAAAMQpsWAAD0wAD28bliAADAICQjAADAILRpAQBAD1rcTWtcKiMAAMAgVEYAAKAHBrCPzxUDAAAGIRkBAAAGoU0LAAD6UAawj0tlBAAAGITKCAAA9KD5nn9srhgAADAIyQgAADAIbVoAANCDZgD72FRGAACAQUhGAACAQWjTAgCAHrTyPf+4XDEAAGAQKiMAANCDFgPYx6UyAgAADEIyAgAADGKNbVpVdeSa9rfW/qnfcAAAYGYygH18U40ZuVf3c9ck+yQ5vlt/WpKzpisoAABg9ltjMtJae0uSVNW3kjy8tXZDt/7mJCdMe3QAADBDmIF9fKPWkhYm+c2k9d902wAAANbKqLf2PTbJWVX1uW790CTHTEtEAADAnDBSMtJae1tVfTnJAd2mP22t/WD6wgIAgJnFPCPjG2fI/z2SXN9a++ckS6rqgdMUEwAAMAeMlIxU1ZuSvDbJ67tNC5J8fLqCAgAAZr9Rx4w8I8leSb6fJK21X1bVvdb8FAAAmDvMMzK+Ua/Yb1prLUlLkqq65/SFBAAAzAWjVkb+X1X9R5LNq+olSf4syQenLywAAJhZDGAf35TJSFVVkk8l2S3J9ZmYjf2NrbWTpjk2AABgFpsyGWmttao6sbX20CQSEAAAoBejtml9v6r2aa2dPa3RAADADGUA+/hGTUb2S/L8qvpZkpuSVCaKJntMV2AAAMDsNmoy8oRpjQIAAGY4A9jHN1ItqbX28yT3S/LY7vHNoz4XAABgVczADgAADMIM7AAA0AMD2MdnBnbuYo8Pvj2PX/qdPPoHXxw6FJj1fN6gX1sftH8efc6Xc+B5X82DXvWS39m/8f22z74n/Gf2P/ML2e8rx2bjHRbeuW/Xt746Byz6Yh79/RPy4H98w/oMG+a0UZORlWdg/3rMwD4rLTnmsznrqS8eOgyYE3zeoEfz5uUh731jzj70JfnWw5+a7Z/1lGy62053OWT3d/xNlv7XF3L6fodk8Tven13fcmSSZPP99soWf/DwnLbvIfnW3k/LvR/x0Gx5wL5DvAtYL6rqiVV1YVUtrqrXrWL/RlX1qW7/mVW146R9r++2X1hV63yTq1EHsP9jkuOSfCa/nYH9X9f15Nz9XHP6otx+zXVDhwFzgs8b9GfzvffIzT/9RW752ZK022/PZcedmIVPfdxdjtl0t51y9TfPSJJcfeqZ2WbF/tYyf+ONMm/DBZm30YaZt2CD3Hblr9b3W2AWaKnBl6lU1fwk70/ypCQPTvLcqnrwSoe9KMmvW2s7J3lvknd1z31wksOSPCTJE5P8W/d6a23UAexHJvlRa+01rbVXt9bMxA4A3G1svP3C3Lr0sjvXb1l6eTbafuFdjrnhvAuz7SEHJUkWHnJQFmy2aRZsuXmuPeucXH3qmXncxaflcReflqu+fnpuuvDi9Ro/rEf7JlncWru4tfabJJ9McshKxxyS5Jju8XFJHldV1W3/ZGvtttbaJUkWd6+31kZt07pXkq9V1WlV9bKqWrimg6vqiKpaVFWLvrL82nWJDwCgFz/+23dnywP2yaO++9lsuf8+uWXp5WnLluUeD7p/Nt3tQTlll8fklJ0PzFYH/n62eOQjhg6XGahVDb5M/ju8W45YKcwdklw6aX1Jt22Vx7TW7khyXZKtRnzuWEa6m1Zr7S1J3lJVeyR5TpJTq2pJa+3xqzn+6CRHJ8kJC3Zt6xIgAMBUbv3lFdl4h+3uXN9kh21z2y+vuMsxt112Zb7/3FckSebf8x7Z9tCDc8d1N+R+f/qsXHvWuVl2081Jkqu+9q1ssd+e+fV3vrf+3gD0ZPLf4TPBuPcfuzLJ5UmuTrJN/+EAAIzvuu+dl3vu/IBs8oAdUgsWZLtnPjlXnHDKXY5ZsNXmSU301O/0miOy5NjPJEluvfSybLn/Pqn581MbbJAt998nN2rTYvZamonJzFe4b7dtlcdU1QZJ7p2Jv/9Hee5YRh0z8pdV9c0kJ2eiRPOS1toe63Ji7p72/Nh78sjTPpl77vrAPPaSU3O/P33m0CHBrOXzBv1py5blgiP/Pvse/+E8+gcn5LLPfjk3/nhxdvn/Xp5tnvKHSZKtDtgvB5775Rx47ley0TZb5afv+kCS5LLPfTU3X3JpDjj7+Ox/5udzw3kX5soTvzHk22GGaq0GX0ZwdpJdquqBVbVhJgakH7/SMccnObx7/Mwkp3TTfByf5LDublsPTLJLkrPW5ZrVxOtOcVDVO5J8qrV2zrgn0KYFwGxUC0b6pQ/05Mk3/+Ru/6Fb/NNLBv+7d+edHjjldaqqJyd5X5L5ST7SWntbVR2VZFFr7fiq2jjJxzIx6fk1SQ5rrV3cPfcNSf4syR1JXtla+/K6xDtSMtKd+GFJDuhWT2utnTvK8yQjAMxGkhFYv2ZCMnLRT38++N+9u+z0gLv9dZps1DatVyT5RCbGiWyT5ONV9fLpDAwAAJjdRrqbVpIXJ9mvtXZTklTVu5J8N4mJDwEAgLUyajJSSZZNWl/WbQMAAJKRZkDnrkZNRv4zyZlV9blu/dAkH56WiAAAgDlh1EkP/6m7te/+3aY/ba39YNqiAgCAGUZlZHwjJSNV9ftJLmitfb9b36yq9mutnTmt0QEAALPWqDOw/3uSGyet39htAwAAWCsjD2BvkyYkaa0t76aGBwAAok1rbYxaGbm4ql5RVQu65a+SXDydgQEAALPbqMnI/0nyyCRLkyxJsl+SI6YrKAAAYPYb9W5aVyY5bJpjAQCAGUub1vhGqoxU1e9V1clVdX63vkdV/d30hgYAAMxmo7ZpfTDJ65PcniSttR9GpQQAAO7UWg2+zDSjJiP3aK2dtdK2O/oOBgAAmDtGTUZ+VVU7JWlJUlXPTHLZtEUFAADMeqPOFfLSJEcn2a2qlia5JMnzpi0qAACYYQxgH9+od9O6OMnjq+qemaim3JyJMSM/n8bYAACAWWyNbVpVtVlVvb6q/m9VHZSJJOTwJIuTPHt9BAgAADNBSw2+zDRTVUY+luTXSb6b5CVJ3pCkkjyjtXbO9IYGAADMZlMlIw9qrT00SarqQ5kYtH7/1tqt0x4ZAAAwq02VjNy+4kFrbVlVLZGIAADA75qJbVJDmyoZeVhVXd89riSbdOuVpLXWNpvW6AAAgFlrjclIa23++goEAACYW0adZwQAAFiD1rRpjWvUGdgBAAB6pTICAAA9WG4A+9hURgAAgEFIRgAAgEFo0wIAgB6YZ2R8KiMAAMAgVEYAAKAHbu07PpURAABgEJIRAABgENq0AACgBwawj09lBAAAGIRkBAAAGIQ2LQAA6IG7aY1PZQQAABiEyggAAPTAAPbxqYwAAACDkIwAAACD0KYFAAA9MIB9fCojAADAIFRGAACgB8uHDmAGUhkBAAAGIRkBAAAGoU0LAAB6YAD7+FRGAACAQUhGAACAQWjTAgCAHrRo0xqXyggAADAIlREAAOiBAezjUxkBAAAGIRkBAAAGoU0LAAB6YAD7+FRGAACAQaiMAABAD5a3oSOYeVRGAACAQUhGAACAQWjTAgCAHhjAPj6VEQAAYBCSEQAAYBDatAAAoAetadMal8oIAAAwCJURAADoQTPPyNhURgAAgEFIRgAAgEFo0wIAgB4sN8/I2FRGAACAQaiMAABAD9zad3wqIwAAwCAkIwAAwCC0aQEAQA/MMzI+lREAAGAQkhEAACBVtWVVnVRVF3U/t1jFMXtW1Xer6oKq+mFVPWfSvo9W1SVVdU637DnVOSUjAADQg5YafFlHr0tycmttlyQnd+sruznJC1prD0nyxCTvq6rNJ+1/TWttz245Z6oTSkYAAIAkOSTJMd3jY5IcuvIBrbX/aa1d1D3+ZZIrk9xnbU8oGQEAgB4sb8MvVXVEVS2atBwxxltY2Fq7rHt8eZKFazq4qvZNsmGSn07a/Laufeu9VbXRVCd0Ny0AAJglWmtHJzl6dfur6utJtl3Frjes9DqtqlZ7f7Cq2i7Jx5Ic3lpb3m1+fSaSmA27GF6b5Kg1xSsZAQCAOaK19vjV7auqK6pqu9baZV2yceVqjtssyQlJ3tBaO2PSa6+oqtxWVf+Z5NVTxaNNCwAAetBaDb6so+OTHN49PjzJF1Y+oKo2TPK5JMe21o5bad923c/KxHiT86c6oWQEAABIkncmOaiqLkry+G49VbV3VX2oO+bZSR6d5IWruIXvJ6rqvCTnJdk6yVunOqE2LQAA6MFMn4G9tXZ1ksetYvuiJC/uHn88ycdX8/zHjntOlREAAGAQkhEAAGAQ2rQAAKAHy9d9BvQ5R2UEAAAYhGQEAAAYhDYtAADowUy/m9YQVEYAAIBBqIwAAEAPepgBfc5RGQEAAAYhGQEAAAahTQsAAHqw3AD2samMAAAAg1AZAQCAHri17/hURgAAgEFIRgAAgEFo0wIAgB60mGdkXCojAADAICQjAADAILRpAQBAD8wzMj6VEQAAYBAqIwAA0APzjIxPZQQAABiEyggArIV2u69AAdaVZAQAAHqgTWt82rQAAIBBqIwAAEAPljczsI9LZQQAABiEZAQAABiENi0AAOiBAezjUxkBAAAGIRkBAAAGoU0LAAB6oE1rfCojAADAIFRGAACgB8tVRsamMgIAAAxCMgIAAAxCmxYAAPSgtRo6hBlHZQQAABiEyggAAPTArX3HpzICAAAMQjICAAAMQpsWAAD0wDwj41MZAQAABiEZAQAABqFNCwAAeuBuWuNTGQEAAAahMgIAAD1QGRmfyggAADAIyQgAADAIbVoAANAD84yMT2UEAAAYhMoIAAD0wAD28amMAAAAg5CMAAAAg9CmBQAAPVi+fOgIZh6VEQAAYBCSEQAAYBDatAAAoAfupjU+lREAAGAQKiMAANADlZHxqYwAAACDkIwAAACD0KYFAAA9WK5Na2wqIwAAwCBURgAAoAftbjGCvYYOYCwqIwAAwCAkIwAAwCC0aQEAQA/uFl1aM4zKCAAAMAjJCAAAMAhtWgAA0IPly4eOYOZRGQEAAAahMgIAAD0wgH18KiMAAMAgJCMAAECqasuqOqmqLup+brGa45ZV1Tndcvyk7Q+sqjOranFVfaqqNpzqnJIRAADowfI2/LKOXpfk5NbaLklO7tZX5ZbW2p7d8vRJ29+V5L2ttZ2T/DrJi6Y6oWQEAABIkkOSHNM9PibJoaM+saoqyWOTHDfO8yUjAADQg9aGX6rqiKpaNGk5Yoy3sLC1dln3+PIkC1dz3Mbda59RVYd227ZKcm1r7Y5ufUmSHaY6obtpAQDALNFaOzrJ0avbX1VfT7LtKna9YaXXaVW1usavB7TWllbVg5KcUlXnJblubeKVjAAAwBzRWnv86vZV1RVVtV1r7bKq2i7Jlat5jaXdz4ur6ptJ9krymSSbV9UGXXXkvkmWThWPNi0AAOhBW94GX9bR8UkO7x4fnuQLKx9QVVtU1Ubd462TPCrJj1prLck3kjxzTc9fmWQEAABIkncmOaiqLkry+G49VbV3VX2oO2b3JIuq6txMJB/vbK39qNv32iRHVtXiTIwh+fBUJ9SmBQAApLV2dZLHrWL7oiQv7h5/J8lDV/P8i5PsO845JSMAANCDHub5mHO0aQEAAINQGQEAgB40lZGxqYwAAACDkIwAAACD0KYFAAA9WG4E+9hURgAAgEGojAAAQA8MYB+fyggAADAIyQgAADAIbVoAANADbVrjUxkBAAAGIRkBAAAGoU0LAAB6sFyf1thURgAAgEGojAAAQA/a8qEjmHlURgAAgEFIRgAAgEFo0wIAgB40A9jHpjICAAAMQmUEAAB6sNwA9rGpjAAAAIOQjAAAAIPQpgUAAD0wgH18KiMAAMAgJCMAAMAgtGkBAEAPluvSGpvKCAAAMIg1Vkaq6oYkq83xWmub9R4RAADMQE1pZGxrTEZaa/dKkqr6+ySXJflYkkryvCTbTXt0AADArDVqm9bTW2v/1lq7obV2fWvt35McMp2BAQAAs9uoychNVfW8qppfVfOq6nlJbprOwAAAYCZpbfhlphk1GfnjJM9OckW3PKvbBgAAsFZGurVva+1n0ZYFAACrtdwA9rGNVBmpqt+rqpOr6vxufY+q+rvpDQ0AAJjNRm3T+mCS1ye5PUlaaz9Mcth0BQUAAMx+o87Afo/W2llVNXnbHdMQDwAAzEhtJo4gH9iolZFfVdVO6SZArKpnZmLeEQAAgLUyamXkpUmOTrJbVS1NckmS509bVAAAwKw36t20Lk7y+Kq6Z5J5rbUbpjcsAACYWdryoSOYeUZKRqpq8yQvSLJjkg1WjB1prb1iugIDAABmt1HbtE5MckaS85LI+QAAYCXLDWAf26jJyMattSOnNRIAAGBOGfVuWh+rqpdU1XZVteWKZVojAwAAZrVRKyO/SfIPSd6Q7va+3c8HTUdQAAAw05hnZHyjJiOvSrJza+1X0xkMAAAwd4zaprU4yc3TGQh3D3t88O15/NLv5NE/+OLQocCs5/MG/brPwQfkwPO/ksf8+GvZ6TUv+Z39m9x/++z31Y/mgO8fn9//+rHZeIeFd+7b7e2vzqN/8MU8+gdfzHbPetL6DJtZZPnyNvgy04yajNyU5Jyq+o+q+pcVy3QGxjCWHPPZnPXUFw8dBswJPm/Qo3nz8pB/eWPOetqLc+oeT8n2hz01m+6+010O2f1dr82Sj38+pz386bnorf+WXd/2qiTJNk86MJvt9eCctveh+fajnp0HHfmibHCvew7xLmDOGTUZ+XyStyX5TpLvTVqYZa45fVFuv+a6ocOAOcHnDfqz+b575Oaf/jy3XLIk7fbb88tPnZCFT3vcXY7ZdPedcvU3zkiSXP3NM+7cv+nuO+ea0xalLVuWZTffkhvOuzD3ecKj1/t7gLloymSkquYneWFr7ZiVl/UQHwDAlDbefmFuWXL5neu3Lr3iLm1YSXL9D3+SbZ9xcJJk20MPyoLNNs2CLTfP9T/8Se7zhAMyb5ONs2CrLbLVgftl4/tuu17jZ3ZobfhlppkyGWmtLUuyvKruPeqLVtURVbWoqhZ9Zfm16xIfAEAvfvzad2erA/bJ/md/Lls+et/csuTytGXL8quvfztXffnUPPK0T2avj78nvz7znLTl5niG9WHUu2ndmOS8qjopE+NHkiSttVes6uDW2tFJjk6SExbsOgNzNABgJrn1l1dkk0nVjI13WJhbl15xl2Nuu+zKfO/ZL0+SzL/nPbLtMw7OHdfdkCRZ/M4PZPE7P5Ak2fPYf8xN/3PJeooc5rZRk5HPdgsAwN3OdWefl3vuvGM22fG+uXXpFdn+OU/JD/7kVXc5ZsFWW+T2a65NWsvOrz0iSz76mYkd8+Zlweab5fZrrs29HrprNnvorjn3pG+v/zfBjNdm4N2shjZSMmJ8yNyx58fek60O3Dcbbr1FHnvJqbnoqH/Npf953NBhwazk8wb9acuW5fy/Oir7nvCh1Pz5WfLRz+TGHy3O773pFbn2e+fnyi+dkq0O3De7vfXItNZyzemLcsHL35Ikmbdgg/zBNz6RJLnjhhtzzgtfk7Zs2ZBvB+aMWtNMkVX1/1prz66q8/Lbmdfv1FrbY6oTaNMCAGBdPeX2C2voGKby8vddP/jfvf/6ys3u9tdpsqkqI6/sfj51muMAAADmmKmSkS8leXiSt7bW/mQ9xAMAAMwRUyUjG1bVHyd5ZFX90co7W2sGtQMAQAxgXxtTJSP/J8nzkmye5Gkr7Wtxhy0AAGAtrTEZaa2dnuT0qlrUWvvweooJAABmHJWR8Y16a98PV9Ujk+w4+TmttWOnKS4AAGCWGykZqaqPJdkpyTlJVtx4uyWRjAAAAGtl1BnY907y4LamSUkAAGAO06U1vnkjHnd+km2nMxAAAGBuGbUysnWSH1XVWUluW7Gxtfb0aYkKAACY9UZNRt48nUEAAMBM525a4xv1blqnVtXCJPt0m85qrV05fWEBAACz3UhjRqrq2UnOSvKsJM9OcmZVPXM6AwMAgJmktTb4MtOM2qb1hiT7rKiGVNV9knw9yXHTFRgAADC7jXo3rXkrtWVdPcZzAQAAfseolZGvVNVXk/x3t/6cJCdOT0gAADDzLDeAfWxrTEaqauckC1trr6mqP0qyf7fru0k+Md3BAQAAs9dUlZH3JXl9krTWPpvks0lSVQ/t9j1tGmMDAIAZYyYOIB/aVOM+FrbWzlt5Y7dtx2mJCAAAmBOmSkY2X8O+TXqMAwAAGFBVbVlVJ1XVRd3PLVZxzB9W1TmTllur6tBu30er6pJJ+/ac6pxTJSOLquolqwjixUm+N9rbAgCA2a8tb4Mv6+h1SU5ure2S5ORu/a7vsbVvtNb2bK3tmeSxSW5O8rVJh7xmxf7W2jlTnXCqMSOvTPK5qnpefpt87J1kwyTPmOrFAQCAGeOQJI/pHh+T5JtJXruG45+Z5MuttZvX9oRrrIy01q5orT0yyVuS/Kxb3tJa+4PW2uVre1IAAOBuZ2Fr7bLu8eVJFk5x/GH57dQfK7ytqn5YVe+tqo2mOuFI84y01r6R5BujHAsAAHNRD21S66yqjkhyxKRNR7fWjp60/+tJtl3FU98weaW11qpqtW+oqrZL8tAkX520+fWZSGI2THJ0JqoqR60p3lEnPQQAAO7musTj6DXsf/zq9lXVFVW1XWvtsi7ZuHINp3p2ks+11m6f9Norqiq3VdV/Jnn1VPFONYAdAAAYwfLWBl/W0fFJDu8eH57kC2s49rlZqUWrS2BSVZXk0CTnT3VCyQgAAJAk70xyUFVdlOTx3Xqqau+q+tCKg6pqxyT3S3LqSs//RFWdl+S8JFsneetUJ9SmBQAApLV2dZLHrWL7oiQvnrT+syQ7rOK4x457TskIAAD04O4wgH2m0aYFAAAMQmUEAAB60NZ9APmcozICAAAMQjICAAAMQpsWAAD0YLkB7GNTGQEAAAYhGQEAAAahTQsAAHpgnpHxqYwAAACDUBkBAIAemGdkfCojAADAICQjAADAILRpAQBAD9ry5UOHMOOojAAAAINQGQEAgB6YgX18KiMAAMAgJCMAAMAgtGkBAEAPzDMyPpURAABgEJIRAABgENq0AACgB83dtMamMgIAAAxCZQQAAHqgMjI+lREAAGAQkhEAAGAQ2rQAAKAHy9vyoUOYcVRGAACAQaiMAABADwxgH5/KCAAAMAjJCAAAMAhtWgAA0ANtWuNTGQEAAAYhGQEAAAahTQsAAHrQmjatcamMAAAAg1AZAQCAHixfbgb2camMAAAAg5CMAAAAg9CmBQAAPTDPyPhURgAAgEGojAAAQA9aM4B9XCojAADAICQjAADAILRpAQBADwxgH5/KCAAAMAjJCAAAMAhtWgAA0ANtWuNTGQEAAAahMgIAAD1Ybp6RsamMAAAAg5CMAAAAg9CmBQAAPTCAfXwqIwAAwCBURgAAoAdtuQHs41IZAQAABiEZAQAABqFNCwAAemAA+/hURgAAgEFIRgAAgEFo0wIAgB605m5a41IZAQAABqEyAgAAPVhuAPvYVEYAAIBBSEYAAIBBaNMCAIAetOUGsI9LZQQAABiEyggAAPTADOzjUxkBAAAGIRkBAAAGoU0LAAB6YAb28amMAAAAg5CMAAAAg9CmBQAAPXA3rfGpjAAAAIOQjAAAQA/a8uWDL+uiqp5VVRdU1fKq2nsNxz2xqi6sqsVV9bpJ2x9YVWd22z9VVRtOdU7JCAAAkCTnJ/mjJN9a3QFVNT/J+5M8KcmDkzy3qh7c7X5Xkve21nZO8uskL5rqhJIRAAAgrbUft9YunOKwfZMsbq1d3Fr7TZJPJjmkqirJY5Mc1x13TJJDpzrntA9gf8rtF9Z0n4P+VdURrbWjh44D5gKfN1h/fN6YTqd/8cDB/+6tqiOSHDFp09E9/5vfIcmlk9aXJNkvyVZJrm2t3TFp+w5TvZjKCKtzxNSHAD3xeYP1x+eNWa21dnRrbe9Jy10Skar6elWdv4rlkCHidWtfAACYI1prj1/Hl1ia5H6T1u/bbbs6yeZVtUFXHVmxfY1URgAAgFGdnWSX7s5ZGyY5LMnxrbWW5BtJntkdd3iSL0z1YpIRVkc/Law/Pm+w/vi8wWpU1TOqakmSP0hyQlV9tdu+fVWdmCRd1eNlSb6a5MdJ/l9r7YLuJV6b5MiqWpyJMSQfnvKcE0kMAADA+qUyAgAADEIyAgAADEIyMkNV1bZV9cmq+mlVfa+qTqyq31uL1zmgqi6oqnOqaoeqOm7qZ627qrpxfZwH1lVVLes+H+dX1ReravOhYxpXVb25ql49dBzQh0mfyQuq6tyqelVVrdXfM1W1eVX95aT1x1TVl/qLFpiKZGQG6ma4/FySb7bWdmqtPSLJ65MsXIuXe16Sd7TW9mytLW2tPXPlA6rKLaCZy27pPh//K8k1SV46dEDJxP8H1vYPMJjhVnwmH5LkoCRPSvKmtXytzZP85VQHAdPHL7KZ6Q+T3N5a+8CKDa21c5OcXlX/0H2De15VPSe585ueb1bVcVX1k6r6RPeHzIuTPDvJ33fbdqyq87vnvLCqjq+qU5Kc3K1/vqpOqqqfVdXLqurIqvpBVZ1RVVt2z9upqr7SVWtOq6rduu0PrKrvdnG9dT1fL+jLd9PNJruGf+sLq+pz3Te251bVI7vtR06aWOqV3bZ3VtWdyc3kCkZVvaaqzq6qH1bVW7ptO1bVhVV1bJLzk9xvVcd1x76hqv6nqk5Psut6uTqwnrXWrszEJIYv636vze9+D674TPx5klTVplV1clV9v/s9tGJyt3cm2amrtPxDt23TlX9fdq/xzqr6Ufe6/7je3yzMUr7xnpn+V5LvrWL7HyXZM8nDkmyd5Oyq+la3b68kD0nyyyTfTvKo1tqHqmr/JF9qrR1XVTuu9HoPT7JHa+2aqnphd969kmycZHGS17bW9qqq9yZ5QZL3ZeKWif+ntXZRVe2X5N+SPDbJPyf599basZP/+IKZoqrmJ3lcfnubwtX9W/+XJKe21p7RPWfTqnpEkj9Nsl+SSnJmVZ2a5FOZ+Ny8v3vNZyd5QlUdnGSXJPt2xx9fVY9O8otu++GttTPWcNxNmbjv+56Z+P/897Pq/2fAjNdau7j7rG2T5JAk17XW9qmqjZJ8u6q+luTSJM9orV1fVVsnOaOqjk/yuiT/q7W2ZzLx5V1W8fuyqn6c5BlJdmuttZqB7ZpwdyUZmV32T/LfrbVlSa7o/tjZJ8n1Sc5qrS1Jkqo6J8mOSU6f4vVOaq1dM2n9G621G5LcUFXXJflit/28JHtU1aZJHpnk090XSUmyUffzUUn+d/f4Y0netVbvENa/TbrPzA6ZuJ/6SVP8W39sJpLzdJ/F67qk/3OttZuSpKo+m+SA1tq/VNU2VbV9kvsk+XVr7dKq+qskByf5Qfeam2Yi6fhFkp+31s7oth+8muPu1Z3v5u58x/d5QeBu7OBM/D5a0XJ870x8JpYkeXuXrC/PxOd5da3Nq/p9eUaSW5N8uCbGlBhXAj2RjMxMF+S3s1uO6rZJj5dltP/2N63hNZZPWl/evd68JNeu+IZpFUxqw0x0S2ttz6q6RyYmeHppko9mzf/Wx/HpTHyet81EpSSZqHK8o7X2H5MP7KqXkz+XqzvulT3EBTNCVT0oE7/XrszEZ+LlrbWvrnTMCzOR8D+itXZ7Vf0sE1X+Vfmd35ettTuqat9MVEefmYkJ3x7b5/uAucqYkZnplCQbVdURKzZU1R5Jrk3ynK5n9j5JHp3krPUVVGvt+iSXVNWzupiqqh7W7f52JtpGkolB8zCjdFWGVyR5VZKbs/p/6ycn+Ytu+/yquneS05IcWlX3qKp7ZqLd47Tu+E9l4rPxzEwkJslE0vNnXQUmNXGnu21WEdbqjvtWd75NqupeSZ7W24WAu5Hud90HkvzfNjGL81eT/EVVLej2/173mbt3kiu7ROQPkzyge4kbMlFJnOo8mya5d2vtxCR/nYl2aKAHKiMzUNev+owk76uq12aidPyzJK/MRJvGuZmoQvxNa+3y6gbWrifPS/LvVfV3SRYk+WQXz18l+a8u3i+sx3igN621H1TVD5M8N2v+t350Vb0oE9+q/kVr7btV9dH89suBD7XWftC95gVdwrC0tXZZt+1rVbV7ku92bWA3Jnl+93qT41nlca2171fVp7p4rkxy9vRcERjEitbJBUnuyETr7z91+z6Uibaq73cDz69KcmiSTyT5YlWdl2RRkp8kSWvt6qr6dk3cvOXLSU5YzTnvleQLVbVxJqovR/b/tmBuqokvEgAAANYvbVoAAMAgJCMAAMAgJCMAAMAgJCMAAMAgJCMAAMAgJCMAAMAgJCMAAMAg/n9k7UFQkKcOkQAAAABJRU5ErkJggg==\n",
       "datasetInfos": [],
       "metadata": {},
       "removedWidgets": [],
       "type": "image"
      }
     },
     "output_type": "display_data"
    }
   ],
   "source": [
    "import matplotlib.pyplot as plt\n",
    "import seaborn as sns\n",
    "pandas_df = df.select([\"Confirmed\",\"Recovered\",\"Deaths\"]).toPandas()\n",
    "if pandas_df.empty:\n",
    "    print(\"No numeric columns found in the dataset.\")\n",
    "elif pandas_df.shape[1] == 1:\n",
    "    print(\"Only one numeric column found. Correlation analysis requires at least two columns.\")\n",
    "else:\n",
    "    # Remove constant columns\n",
    "    pandas_df = pandas_df.loc[:, (pandas_df != pandas_df.iloc[0]).any()]\n",
    "    \n",
    "    if pandas_df.shape[1] < 2:\n",
    "        print(\"After removing constant columns, less than two numeric columns remain. Cannot perform correlation analysis.\")\n",
    "    else:\n",
    "        # Compute correlation matrix\n",
    "        correlation_matrix = pandas_df.corr()\n",
    "\n",
    "        # Plot heatmap\n",
    "        plt.figure(figsize=(12, 10))\n",
    "        sns.heatmap(correlation_matrix, annot=True, cmap='coolwarm', vmin=-1, vmax=1)\n",
    "        ax = plt.gca()\n",
    "        ax.set_xlim(0, correlation_matrix.shape[1])\n",
    "        ax.set_ylim(0, correlation_matrix.shape[0])\n",
    "        plt.title('Correlation Matrix')\n",
    "        plt.tight_layout()\n",
    "        plt.show()"
   ]
  },
  {
   "cell_type": "markdown",
   "metadata": {
    "application/vnd.databricks.v1+cell": {
     "cellMetadata": {
      "byteLimit": 2048000,
      "rowLimit": 10000
     },
     "inputWidgets": {},
     "nuid": "89ba1e9e-930e-4021-b5a4-ee1145b3de31",
     "showTitle": false,
     "title": ""
    }
   },
   "source": [
    "As mentioned above in Data Visualization and Exploration step, the correlations suggest that the variables are closely related and might be influenced by similar factors.                                                     "
   ]
  },
  {
   "cell_type": "markdown",
   "metadata": {
    "application/vnd.databricks.v1+cell": {
     "cellMetadata": {
      "byteLimit": 2048000,
      "rowLimit": 10000
     },
     "inputWidgets": {},
     "nuid": "72e0b399-d1fa-4893-bf32-84f9b68cefb6",
     "showTitle": false,
     "title": ""
    }
   },
   "source": [
    "# Data Preparation"
   ]
  },
  {
   "cell_type": "code",
   "execution_count": 0,
   "metadata": {
    "application/vnd.databricks.v1+cell": {
     "cellMetadata": {
      "byteLimit": 2048000,
      "rowLimit": 10000
     },
     "inputWidgets": {},
     "nuid": "9946df4a-028c-4c0a-afcb-bf6277b86791",
     "showTitle": false,
     "title": ""
    }
   },
   "outputs": [],
   "source": [
    "# Convert Date column to date type and extract features\n",
    "df = df.withColumn(\"Date\", to_date(\"Date\", \"dd-MM-yyyy\"))\n",
    "df = df.withColumn(\"Year\", year(\"Date\"))\n",
    "df = df.withColumn(\"Month\", month(\"Date\"))\n",
    "df = df.withColumn(\"Day\", dayofmonth(\"Date\"))\n",
    "\n",
    "# Select features for the model\n",
    "feature_columns = [\"Year\", \"Month\", \"Day\", \"Confirmed\", \"Recovered\"]\n",
    "assembler = VectorAssembler(inputCols=feature_columns, outputCol=\"features\")\n",
    "df_assembled = assembler.transform(df)\n",
    "\n",
    "# Standardize features\n",
    "scaler = StandardScaler(inputCol=\"features\", outputCol=\"scaled_features\")\n",
    "scaler_model = scaler.fit(df_assembled)\n",
    "df_scaled = scaler_model.transform(df_assembled)\n",
    "\n",
    "# Prepare the final dataset for modeling\n",
    "data = df_scaled.select(\"scaled_features\", \"Deaths\")\n",
    "\n",
    "# Split the dataset into training and test sets\n",
    "train_data, test_data = data.randomSplit([0.8, 0.2], seed=42)"
   ]
  },
  {
   "cell_type": "markdown",
   "metadata": {
    "application/vnd.databricks.v1+cell": {
     "cellMetadata": {
      "byteLimit": 2048000,
      "rowLimit": 10000
     },
     "inputWidgets": {},
     "nuid": "ce54f8e0-dbfd-40f0-8d38-d44e89cc8e9e",
     "showTitle": false,
     "title": ""
    }
   },
   "source": [
    "# Model Building"
   ]
  },
  {
   "cell_type": "code",
   "execution_count": 0,
   "metadata": {
    "application/vnd.databricks.v1+cell": {
     "cellMetadata": {
      "byteLimit": 2048000,
      "rowLimit": 10000
     },
     "inputWidgets": {},
     "nuid": "8d6cef22-ff15-40cd-b18c-4bdcf6c44f83",
     "showTitle": false,
     "title": ""
    }
   },
   "outputs": [],
   "source": [
    "# Function to train model and print training metrics\n",
    "def train_and_evaluate(model, train_data, model_name):\n",
    "    # Train the model\n",
    "    trained_model = model.fit(train_data)\n",
    "    \n",
    "    # Make predictions on training data\n",
    "    predictions = trained_model.transform(train_data)\n",
    "    \n",
    "    # Calculate RMSE\n",
    "    evaluator_rmse = RegressionEvaluator(labelCol=\"Deaths\", predictionCol=\"prediction\", metricName=\"rmse\")\n",
    "    rmse = evaluator_rmse.evaluate(predictions)\n",
    "    \n",
    "    # Calculate R-squared (coefficient of determination)\n",
    "    evaluator_r2 = RegressionEvaluator(labelCol=\"Deaths\", predictionCol=\"prediction\", metricName=\"r2\")\n",
    "    r2 = evaluator_r2.evaluate(predictions)\n",
    "    \n",
    "    # Calculate Mean Absolute Error\n",
    "    evaluator_mae = RegressionEvaluator(labelCol=\"Deaths\", predictionCol=\"prediction\", metricName=\"mae\")\n",
    "    mae = evaluator_mae.evaluate(predictions)\n",
    "    \n",
    "    print(f\"\\n{model_name} - Training Metrics:\")\n",
    "    print(f\"Training Accuracy (R-squared): {r2}\")\n",
    "    print(f\"Training Loss (RMSE): {rmse}\")\n",
    "    print(f\"Training Loss (MAE): {mae}\")\n",
    "    return trained_model"
   ]
  },
  {
   "cell_type": "code",
   "execution_count": 0,
   "metadata": {
    "application/vnd.databricks.v1+cell": {
     "cellMetadata": {
      "byteLimit": 2048000,
      "rowLimit": 10000
     },
     "inputWidgets": {},
     "nuid": "0c88afeb-94cd-40d7-90ae-b34bd2e0943c",
     "showTitle": false,
     "title": ""
    }
   },
   "outputs": [
    {
     "name": "stdout",
     "output_type": "stream",
     "text": [
      "\n",
      "Linear Regression - Training Metrics:\n",
      "Training Accuracy (R-squared): 0.9993208498868436\n",
      "Training Loss (RMSE): 751.2867280011263\n",
      "Training Loss (MAE): 602.4133463430933\n",
      "\n",
      "Random Forest - Training Metrics:\n",
      "Training Accuracy (R-squared): 0.9987431235303845\n",
      "Training Loss (RMSE): 1022.0429009131374\n",
      "Training Loss (MAE): 763.0633616265833\n",
      "\n",
      "Gradient Boosted Trees - Training Metrics:\n",
      "Training Accuracy (R-squared): 0.9997464701117851\n",
      "Training Loss (RMSE): 459.0261322993186\n",
      "Training Loss (MAE): 346.94671654736646\n"
     ]
    }
   ],
   "source": [
    "# Model 1: Linear Regression\n",
    "lr = LinearRegression(featuresCol=\"scaled_features\", labelCol=\"Deaths\")\n",
    "lr_model = train_and_evaluate(lr, train_data, \"Linear Regression\")\n",
    "\n",
    "# Model 2: Random Forest Regression\n",
    "rf = RandomForestRegressor(featuresCol=\"scaled_features\", labelCol=\"Deaths\")\n",
    "rf_model = train_and_evaluate(rf, train_data, \"Random Forest\")\n",
    "\n",
    "# Model 3: Gradient Boosted Tree Regression\n",
    "gbt = GBTRegressor(featuresCol=\"scaled_features\", labelCol=\"Deaths\")\n",
    "gbt_model = train_and_evaluate(gbt, train_data, \"Gradient Boosted Trees\")"
   ]
  },
  {
   "cell_type": "markdown",
   "metadata": {
    "application/vnd.databricks.v1+cell": {
     "cellMetadata": {
      "byteLimit": 2048000,
      "rowLimit": 10000
     },
     "inputWidgets": {},
     "nuid": "a1bf4c93-2cc8-4c3b-8a07-911466c112ef",
     "showTitle": false,
     "title": ""
    }
   },
   "source": [
    "Overall, the Gradient Boosted Trees model appears to be the best performing model based on the training metrics."
   ]
  },
  {
   "cell_type": "markdown",
   "metadata": {
    "application/vnd.databricks.v1+cell": {
     "cellMetadata": {
      "byteLimit": 2048000,
      "rowLimit": 10000
     },
     "inputWidgets": {},
     "nuid": "8482c64c-d3b7-4bdf-a527-43324c6b2228",
     "showTitle": false,
     "title": ""
    }
   },
   "source": [
    "# Performance Evaluation"
   ]
  },
  {
   "cell_type": "code",
   "execution_count": 0,
   "metadata": {
    "application/vnd.databricks.v1+cell": {
     "cellMetadata": {
      "byteLimit": 2048000,
      "rowLimit": 10000
     },
     "inputWidgets": {},
     "nuid": "2eef0a4b-bec8-4949-97a2-d5869b0ba748",
     "showTitle": false,
     "title": ""
    }
   },
   "outputs": [
    {
     "name": "stdout",
     "output_type": "stream",
     "text": [
      "\n",
      "Confusion Matrices (Threshold: 100 deaths)\n",
      "Linear Regression:\n",
      "                 Predicted Positive  Predicted Negative\n",
      "Actual Positive                  23                   0\n",
      "Actual Negative                   1                   0\n",
      "\n",
      "Random Forest:\n",
      "                 Predicted Positive  Predicted Negative\n",
      "Actual Positive                  24                   0\n",
      "Actual Negative                   0                   0\n",
      "\n",
      "Gradient Boosted Trees:\n",
      "                 Predicted Positive  Predicted Negative\n",
      "Actual Positive                  24                   0\n",
      "Actual Negative                   0                   0\n"
     ]
    }
   ],
   "source": [
    "def confusion_matrix(predictions, threshold=100):\n",
    "    tp = predictions.filter((predictions.Deaths >= threshold) & (predictions.prediction >= threshold)).count()\n",
    "    tn = predictions.filter((predictions.Deaths < threshold) & (predictions.prediction < threshold)).count()\n",
    "    fp = predictions.filter((predictions.Deaths < threshold) & (predictions.prediction >= threshold)).count()\n",
    "    fn = predictions.filter((predictions.Deaths >= threshold) & (predictions.prediction < threshold)).count()\n",
    "    return pd.DataFrame([[tp, fp], [fn, tn]], columns=['Predicted Positive', 'Predicted Negative'], index=['Actual Positive', 'Actual Negative'])\n",
    "\n",
    "# Print confusion matrices\n",
    "print(\"\\nConfusion Matrices (Threshold: 100 deaths)\")\n",
    "print(\"Linear Regression:\")\n",
    "print(confusion_matrix(lr_predictions))\n",
    "print(\"\\nRandom Forest:\")\n",
    "print(confusion_matrix(rf_predictions))\n",
    "print(\"\\nGradient Boosted Trees:\")\n",
    "print(confusion_matrix(gbt_predictions))"
   ]
  },
  {
   "cell_type": "code",
   "execution_count": 0,
   "metadata": {
    "application/vnd.databricks.v1+cell": {
     "cellMetadata": {
      "byteLimit": 2048000,
      "rowLimit": 10000
     },
     "inputWidgets": {},
     "nuid": "78066139-5da9-4744-9de2-2be011fecdde",
     "showTitle": false,
     "title": ""
    }
   },
   "outputs": [
    {
     "name": "stdout",
     "output_type": "stream",
     "text": [
      "\n",
      "Test Data Evaluation:\n",
      "\n",
      "Linear Regression - Test Metrics:\n",
      "Test Accuracy (R-squared): 0.9988402809902494\n",
      "Test Loss (RMSE): 840.6369940196237\n",
      "Test Loss (MAE): 711.9697481467164\n",
      "\n",
      "Random Forest - Test Metrics:\n",
      "Test Accuracy (R-squared): 0.9975851654412683\n",
      "Test Loss (RMSE): 1213.0418975625073\n",
      "Test Loss (MAE): 945.1098331843097\n",
      "\n",
      "Gradient Boosted Trees - Test Metrics:\n",
      "Test Accuracy (R-squared): 0.9974692306223\n",
      "Test Loss (RMSE): 1241.8192722887115\n",
      "Test Loss (MAE): 911.1542635826389\n"
     ]
    }
   ],
   "source": [
    "# Performance Evaluation on Test Data\n",
    "print(\"\\nTest Data Evaluation:\")\n",
    "\n",
    "def evaluate_on_test(model, test_data, model_name):\n",
    "    predictions = model.transform(test_data)\n",
    "    evaluator_rmse = RegressionEvaluator(labelCol=\"Deaths\", predictionCol=\"prediction\", metricName=\"rmse\")\n",
    "    rmse = evaluator_rmse.evaluate(predictions)\n",
    "\n",
    "    evaluator_r2 = RegressionEvaluator(labelCol=\"Deaths\", predictionCol=\"prediction\", metricName=\"r2\")\n",
    "    r2 = evaluator_r2.evaluate(predictions)\n",
    "\n",
    "    evaluator_mae = RegressionEvaluator(labelCol=\"Deaths\", predictionCol=\"prediction\", metricName=\"mae\")\n",
    "    mae = evaluator_mae.evaluate(predictions)\n",
    "    print(f\"\\n{model_name} - Test Metrics:\")\n",
    "    print(f\"Test Accuracy (R-squared): {r2}\")\n",
    "    print(f\"Test Loss (RMSE): {rmse}\")\n",
    "    print(f\"Test Loss (MAE): {mae}\")\n",
    "    return predictions\n",
    "\n",
    "lr_predictions = evaluate_on_test(lr_model, test_data, \"Linear Regression\")\n",
    "rf_predictions = evaluate_on_test(rf_model, test_data, \"Random Forest\")\n",
    "gbt_predictions = evaluate_on_test(gbt_model, test_data, \"Gradient Boosted Trees\")"
   ]
  },
  {
   "cell_type": "markdown",
   "metadata": {
    "application/vnd.databricks.v1+cell": {
     "cellMetadata": {
      "byteLimit": 2048000,
      "rowLimit": 10000
     },
     "inputWidgets": {},
     "nuid": "3c8e3e4c-457e-4646-91c4-dfa2a005b24d",
     "showTitle": false,
     "title": ""
    }
   },
   "source": [
    "Overall, the Linear Regression model appears to be the best performing model on the test data, followed closely by the Gradient Boosted Trees model. The Random Forest model seems to be the least accurate on the test data."
   ]
  },
  {
   "cell_type": "code",
   "execution_count": 0,
   "metadata": {
    "application/vnd.databricks.v1+cell": {
     "cellMetadata": {
      "byteLimit": 2048000,
      "rowLimit": 10000
     },
     "inputWidgets": {},
     "nuid": "2512b50d-2364-445b-be9c-7e309cbdfe9a",
     "showTitle": false,
     "title": ""
    }
   },
   "outputs": [
    {
     "name": "stdout",
     "output_type": "stream",
     "text": [
      "\n",
      "Linear Regression Model Predictions:\n",
      "+------+-------------------+\n",
      "|Deaths|         prediction|\n",
      "+------+-------------------+\n",
      "|  1391|-292.27518937873174|\n",
      "|  1889|  613.4847861091512|\n",
      "|  2101|  1056.373670266108|\n",
      "|  2649|  2201.459510884142|\n",
      "|  3434|  3644.762218245138|\n",
      "|  4024|  4735.405003942069|\n",
      "|  5185|  6326.719602422392|\n",
      "|  6649|   8002.51356341915|\n",
      "|  9900| 11183.050302835287|\n",
      "| 11903| 11504.352626951095|\n",
      "+------+-------------------+\n",
      "only showing top 10 rows\n",
      "\n"
     ]
    }
   ],
   "source": [
    "print(\"\\nLinear Regression Model Predictions:\")\n",
    "lr_predictions.select(\"Deaths\", \"prediction\").show(10)"
   ]
  },
  {
   "cell_type": "markdown",
   "metadata": {
    "application/vnd.databricks.v1+cell": {
     "cellMetadata": {
      "byteLimit": 2048000,
      "rowLimit": 10000
     },
     "inputWidgets": {},
     "nuid": "5faea1c5-cd3a-4bdb-8e8b-1d1fbdcd9ed3",
     "showTitle": false,
     "title": ""
    }
   },
   "source": [
    "**Analysis:**\n",
    "\n",
    "Gradient Boosted Trees shows signs of overfitting. It performs exceptionally well on the training data but has the highest error on the test data. This suggests that the model has learned the training data too well and doesn't generalize as effectively to new, unseen data.\n",
    "Linear Regression shows the most consistent performance between training and test data. While it's not the best on the training data, it generalizes well to the test data, suggesting it's captured the underlying trends without overfitting.\n",
    "Random Forest falls between the other two models. It shows better generalization than Gradient Boosted Trees but doesn't perform as well as Linear Regression on the test data.\n",
    "\n",
    "**Conclusions:**\n",
    "\n",
    "If the priority is generalization to new data, Linear Regression appears to be the best choice among these models. It has the lowest test RMSE and shows consistent performance between training and test data.\n",
    "If the focus is on explaining the relationships between variables, Linear Regression also offers interpretability through its coefficients, which can provide insights into the impact of each feature on the target variable.\n",
    "The Gradient Boosted Trees model, despite its excellent performance on the training data, may need some regularization or parameter tuning to improve its generalization to new data.\n",
    "The Random Forest model might benefit from further tuning to improve its performance, as it currently doesn't outperform Linear Regression on either the training or test data."
   ]
  }
 ],
 "metadata": {
  "application/vnd.databricks.v1+notebook": {
   "dashboards": [],
   "environmentMetadata": null,
   "language": "python",
   "notebookMetadata": {
    "mostRecentlyExecutedCommandWithImplicitDF": {
     "commandId": 4259040295429193,
     "dataframes": [
      "_sqldf"
     ]
    },
    "pythonIndentUnit": 4
   },
   "notebookName": "Group17_CovidDataset",
   "widgets": {}
  },
  "language_info": {
   "name": "python"
  }
 },
 "nbformat": 4,
 "nbformat_minor": 0
}
