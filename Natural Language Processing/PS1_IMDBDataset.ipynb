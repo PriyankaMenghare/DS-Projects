{
 "cells": [
  {
   "cell_type": "code",
   "execution_count": null,
   "metadata": {
    "id": "h_AaTlSU9atX"
   },
   "outputs": [],
   "source": [
    "#Importing Libraries\n",
    "import pandas as pd\n",
    "import re\n",
    "from nltk import trigrams, word_tokenize\n",
    "from collections import defaultdict, Counter\n",
    "import nltk"
   ]
  },
  {
   "cell_type": "code",
   "execution_count": null,
   "metadata": {
    "colab": {
     "base_uri": "https://localhost:8080/"
    },
    "id": "HdaJQ6IeIive",
    "outputId": "7d3f0ad8-ab41-41f4-8d60-04d94d4514e6"
   },
   "outputs": [
    {
     "name": "stderr",
     "output_type": "stream",
     "text": [
      "[nltk_data] Downloading package punkt to /root/nltk_data...\n",
      "[nltk_data]   Package punkt is already up-to-date!\n"
     ]
    },
    {
     "data": {
      "text/plain": [
       "True"
      ]
     },
     "execution_count": 6,
     "metadata": {},
     "output_type": "execute_result"
    }
   ],
   "source": [
    "# Download NLTK resources\n",
    "nltk.download('punkt')"
   ]
  },
  {
   "cell_type": "markdown",
   "metadata": {
    "id": "EernYA_hMciH"
   },
   "source": [
    "##PART I"
   ]
  },
  {
   "cell_type": "code",
   "execution_count": null,
   "metadata": {
    "id": "QXY0VVPyIwye"
   },
   "outputs": [],
   "source": [
    "# Dataset Loading\n",
    "url = \"IMDB.csv\"\n",
    "df = pd.read_csv(url)"
   ]
  },
  {
   "cell_type": "code",
   "execution_count": null,
   "metadata": {
    "colab": {
     "base_uri": "https://localhost:8080/"
    },
    "id": "bhoAdmC1I3-X",
    "outputId": "a6f6b9e2-3723-4cd7-8ef9-2efb7b979a2d"
   },
   "outputs": [
    {
     "name": "stdout",
     "output_type": "stream",
     "text": [
      "   ID                                             review\n",
      "0   1  One of the other reviewers has mentioned that ...\n",
      "1   2  A wonderful little production. <br /><br />The...\n",
      "2   3  I thought this was a wonderful way to spend ti...\n",
      "3   4  Basically there's a family where a little boy ...\n",
      "4   5  Petter Mattei's \"Love in the Time of Money\" is...\n"
     ]
    }
   ],
   "source": [
    "# Check the dataset\n",
    "print(df.head())"
   ]
  },
  {
   "cell_type": "code",
   "execution_count": null,
   "metadata": {
    "id": "URv6FqPQJJrY"
   },
   "outputs": [],
   "source": [
    "#Preprocess the text data\n",
    "def preprocess_text(text):\n",
    "    text = re.sub(r'<.*?>', '', text)\n",
    "    text = re.sub(r'[^a-zA-Z\\s]', '', text)\n",
    "    text = text.lower()\n",
    "    return text\n",
    "\n",
    "df['cleaned_review'] = df['review'].apply(preprocess_text)"
   ]
  },
  {
   "cell_type": "code",
   "execution_count": null,
   "metadata": {
    "id": "06xo20tuJVHq"
   },
   "outputs": [],
   "source": [
    "# Tokenize text into trigrams\n",
    "trigram_model = defaultdict(Counter)\n",
    "\n",
    "for review in df['cleaned_review']:\n",
    "    tokens = word_tokenize(review)\n",
    "    trigrams_in_review = list(trigrams(tokens))\n",
    "    for w1, w2, w3 in trigrams_in_review:\n",
    "        trigram_model[(w1, w2)][w3] += 1"
   ]
  },
  {
   "cell_type": "code",
   "execution_count": null,
   "metadata": {
    "id": "E3IZxi3PJiXH"
   },
   "outputs": [],
   "source": [
    "# Calculate probabilities\n",
    "def calculate_trigram_probability(sentence, model):\n",
    "    tokens = word_tokenize(sentence.lower())\n",
    "    trigrams_in_sentence = list(trigrams(tokens))\n",
    "    probability = 1.0\n",
    "    for w1, w2, w3 in trigrams_in_sentence:\n",
    "        if model[(w1, w2)][w3] == 0:\n",
    "            probability *= 1e-6  # Smoothing for unseen trigrams\n",
    "        else:\n",
    "            probability *= model[(w1, w2)][w3] / sum(model[(w1, w2)].values())\n",
    "    return probability"
   ]
  },
  {
   "cell_type": "code",
   "execution_count": null,
   "metadata": {
    "id": "oyjl3_oqJmL4"
   },
   "outputs": [],
   "source": [
    "# Test sentences\n",
    "test_sentence_1 = \"The first thing that struck me about Oz was its brutality and unflinching scenes of violence, which set in right from the word GO.\"\n",
    "test_sentence_2 = \"This was the most I'd laughed at one of Woody's comedies in years.\""
   ]
  },
  {
   "cell_type": "code",
   "execution_count": null,
   "metadata": {
    "id": "bZUZJBO-JroV"
   },
   "outputs": [],
   "source": [
    "# Preprocess test sentences\n",
    "cleaned_test_sentence_1 = preprocess_text(test_sentence_1)\n",
    "cleaned_test_sentence_2 = preprocess_text(test_sentence_2)"
   ]
  },
  {
   "cell_type": "code",
   "execution_count": null,
   "metadata": {
    "id": "WX55mY7OJxEr"
   },
   "outputs": [],
   "source": [
    "# Calculate probabilities\n",
    "prob_sentence_1 = calculate_trigram_probability(cleaned_test_sentence_1, trigram_model)\n",
    "prob_sentence_2 = calculate_trigram_probability(cleaned_test_sentence_2, trigram_model)"
   ]
  },
  {
   "cell_type": "code",
   "execution_count": null,
   "metadata": {
    "colab": {
     "base_uri": "https://localhost:8080/"
    },
    "id": "xkwmTV70Jztc",
    "outputId": "9ac27ce3-b8b2-406d-c52d-21ebfde7a4cc"
   },
   "outputs": [
    {
     "name": "stdout",
     "output_type": "stream",
     "text": [
      "Probability of Test Sentence 1: 1.762113742553096e-11\n",
      "Probability of Test Sentence 2: 1.7986678141139513e-08\n"
     ]
    }
   ],
   "source": [
    "# Print results\n",
    "print(f\"Probability of Test Sentence 1: {prob_sentence_1}\")\n",
    "print(f\"Probability of Test Sentence 2: {prob_sentence_2}\")"
   ]
  },
  {
   "cell_type": "code",
   "execution_count": null,
   "metadata": {
    "colab": {
     "base_uri": "https://localhost:8080/"
    },
    "id": "NM1Vc-PYJ2HX",
    "outputId": "5d291b63-84ef-47f6-ba56-5fb434149a87"
   },
   "outputs": [
    {
     "name": "stdout",
     "output_type": "stream",
     "text": [
      "Test Sentence 2 is more relevant.\n"
     ]
    }
   ],
   "source": [
    "# Determining which sentence is more relevant\n",
    "if prob_sentence_1 > prob_sentence_2:\n",
    "    print(\"Test Sentence 1 is more relevant.\")\n",
    "else:\n",
    "    print(\"Test Sentence 2 is more relevant.\")"
   ]
  },
  {
   "cell_type": "markdown",
   "metadata": {
    "id": "YBdrRghNKMyd"
   },
   "source": [
    "## PART II"
   ]
  },
  {
   "cell_type": "code",
   "execution_count": null,
   "metadata": {
    "id": "GaWt1K7gKZht"
   },
   "outputs": [],
   "source": [
    "from nltk.corpus import stopwords\n",
    "from nltk.stem import PorterStemmer\n",
    "from nltk.stem import WordNetLemmatizer"
   ]
  },
  {
   "cell_type": "code",
   "execution_count": null,
   "metadata": {
    "colab": {
     "base_uri": "https://localhost:8080/"
    },
    "id": "BsuanDwyKe_J",
    "outputId": "c9a4272a-6f52-44a5-ec9a-24e524ef9f1d"
   },
   "outputs": [
    {
     "name": "stderr",
     "output_type": "stream",
     "text": [
      "[nltk_data] Downloading package stopwords to /root/nltk_data...\n",
      "[nltk_data]   Unzipping corpora/stopwords.zip.\n",
      "[nltk_data] Downloading package wordnet to /root/nltk_data...\n"
     ]
    },
    {
     "data": {
      "text/plain": [
       "True"
      ]
     },
     "execution_count": 18,
     "metadata": {},
     "output_type": "execute_result"
    }
   ],
   "source": [
    "nltk.download('stopwords')\n",
    "nltk.download('wordnet')"
   ]
  },
  {
   "cell_type": "code",
   "execution_count": null,
   "metadata": {
    "id": "136w-jh8Kh-8"
   },
   "outputs": [],
   "source": [
    "# a. Tokenization\n",
    "def tokenize(text):\n",
    "    return word_tokenize(text)"
   ]
  },
  {
   "cell_type": "code",
   "execution_count": null,
   "metadata": {
    "id": "8I5i25GnKoLJ"
   },
   "outputs": [],
   "source": [
    "# b. Lowercasing\n",
    "def to_lowercase(tokens):\n",
    "    return [token.lower() for token in tokens]"
   ]
  },
  {
   "cell_type": "code",
   "execution_count": null,
   "metadata": {
    "id": "PwSfpH2rKrSE"
   },
   "outputs": [],
   "source": [
    "# c. Stop Words Removal\n",
    "stop_words = set(stopwords.words('english'))\n",
    "def remove_stopwords(tokens):\n",
    "    return [token for token in tokens if token not in stop_words]"
   ]
  },
  {
   "cell_type": "code",
   "execution_count": null,
   "metadata": {
    "id": "jvXAL_ZAKvCa"
   },
   "outputs": [],
   "source": [
    "# d. Stemming\n",
    "stemmer = PorterStemmer()\n",
    "def stem_tokens(tokens):\n",
    "    return [stemmer.stem(token) for token in tokens]"
   ]
  },
  {
   "cell_type": "code",
   "execution_count": null,
   "metadata": {
    "id": "cSqL4o70Kw3P"
   },
   "outputs": [],
   "source": [
    "# e. Lemmatization\n",
    "lemmatizer = WordNetLemmatizer()\n",
    "def lemmatize_tokens(tokens):\n",
    "    return [lemmatizer.lemmatize(token) for token in tokens]"
   ]
  },
  {
   "cell_type": "code",
   "execution_count": null,
   "metadata": {
    "id": "EFUtnuA-Kzox"
   },
   "outputs": [],
   "source": [
    "# Full preprocessing pipeline\n",
    "def preprocess_text(text):\n",
    "    text = re.sub(r'<.*?>', '', text)\n",
    "    text = re.sub(r'[^a-zA-Z\\s]', '', text)\n",
    "    tokens = tokenize(text)\n",
    "    tokens = to_lowercase(tokens)\n",
    "    tokens = remove_stopwords(tokens)\n",
    "    tokens = stem_tokens(tokens)\n",
    "    tokens = lemmatize_tokens(tokens)\n",
    "    return tokens"
   ]
  },
  {
   "cell_type": "code",
   "execution_count": null,
   "metadata": {
    "id": "sJJbSfBXK4sS"
   },
   "outputs": [],
   "source": [
    "df['processed_review'] = df['review'].apply(preprocess_text)"
   ]
  },
  {
   "cell_type": "code",
   "execution_count": null,
   "metadata": {
    "colab": {
     "base_uri": "https://localhost:8080/"
    },
    "id": "XApHGQwHK8T2",
    "outputId": "34dc352b-4544-4f5d-813f-1c3ab547953d"
   },
   "outputs": [
    {
     "name": "stdout",
     "output_type": "stream",
     "text": [
      "                                              review  \\\n",
      "0  One of the other reviewers has mentioned that ...   \n",
      "1  A wonderful little production. <br /><br />The...   \n",
      "2  I thought this was a wonderful way to spend ti...   \n",
      "3  Basically there's a family where a little boy ...   \n",
      "4  Petter Mattei's \"Love in the Time of Money\" is...   \n",
      "\n",
      "                                    processed_review  \n",
      "0  [one, review, mention, watch, oz, episod, youl...  \n",
      "1  [wonder, littl, product, film, techniqu, unass...  \n",
      "2  [thought, wonder, way, spend, time, hot, summe...  \n",
      "3  [basic, there, famili, littl, boy, jake, think...  \n",
      "4  [petter, mattei, love, time, money, visual, st...  \n"
     ]
    }
   ],
   "source": [
    "#Printing pre-processed data\n",
    "print(df[['review', 'processed_review']].head())"
   ]
  },
  {
   "cell_type": "code",
   "execution_count": null,
   "metadata": {
    "id": "fHXBLTXELIBf"
   },
   "outputs": [],
   "source": [
    "#Feature Extraction using Skip Gram\n",
    "from gensim.models import Word2Vec"
   ]
  },
  {
   "cell_type": "code",
   "execution_count": null,
   "metadata": {
    "id": "NZhsXxWgLMsb"
   },
   "outputs": [],
   "source": [
    "# Preparing the data for Word2Vec\n",
    "sentences = df['processed_review'].tolist()"
   ]
  },
  {
   "cell_type": "code",
   "execution_count": null,
   "metadata": {
    "id": "uaj7gDwiLQFb"
   },
   "outputs": [],
   "source": [
    "# Create Skip Gram model\n",
    "skip_gram_model = Word2Vec(sentences, vector_size=100, window=5, sg=1, min_count=1, workers=4)"
   ]
  },
  {
   "cell_type": "code",
   "execution_count": null,
   "metadata": {
    "colab": {
     "base_uri": "https://localhost:8080/"
    },
    "id": "8eiFuTH3LS-x",
    "outputId": "408b8c82-b92f-47de-fc2b-6215417cc0fe"
   },
   "outputs": [
    {
     "name": "stdout",
     "output_type": "stream",
     "text": [
      "Word 'violence' not in vocabulary\n"
     ]
    }
   ],
   "source": [
    "# Inspecting the embeddings for a sample word\n",
    "word = 'violence'\n",
    "if word in skip_gram_model.wv.key_to_index:\n",
    "    print(f\"Embedding for '{word}': {skip_gram_model.wv[word]}\")\n",
    "else:\n",
    "    print(f\"Word '{word}' not in vocabulary\")"
   ]
  },
  {
   "cell_type": "code",
   "execution_count": null,
   "metadata": {
    "id": "q39bp0UhLWfz"
   },
   "outputs": [],
   "source": [
    "# Saving the model for further use if required\n",
    "skip_gram_model.save(\"skip_gram_model.model\")"
   ]
  },
  {
   "cell_type": "markdown",
   "metadata": {
    "id": "-DpDpOWnMW_a"
   },
   "source": [
    "##PART III"
   ]
  },
  {
   "cell_type": "code",
   "execution_count": null,
   "metadata": {
    "id": "t89WSeSFMaa7"
   },
   "outputs": [],
   "source": [
    "# Similarity Analysis\n",
    "import numpy as np\n",
    "from sklearn.decomposition import PCA\n",
    "import matplotlib.pyplot as plt"
   ]
  },
  {
   "cell_type": "code",
   "execution_count": null,
   "metadata": {
    "id": "HJQ36gwyMl0m"
   },
   "outputs": [],
   "source": [
    "# Function to check similarity\n",
    "def cosine_similarity(vec1, vec2):\n",
    "    dot_product = np.dot(vec1, vec2)\n",
    "    norm_vec1 = np.linalg.norm(vec1)\n",
    "    norm_vec2 = np.linalg.norm(vec2)\n",
    "    return dot_product / (norm_vec1 * norm_vec2)"
   ]
  },
  {
   "cell_type": "code",
   "execution_count": null,
   "metadata": {
    "id": "kZvMis2mMrR_"
   },
   "outputs": [],
   "source": [
    "# Finding top 2 similar words to a given word\n",
    "def top_similar_words(word, model, top_n=2):\n",
    "    if word not in model.wv.key_to_index:\n",
    "        return None\n",
    "    word_vec = model.wv[word]\n",
    "    similarities = {}\n",
    "    for other_word in model.wv.key_to_index:\n",
    "        if other_word != word:\n",
    "            other_word_vec = model.wv[other_word]\n",
    "            similarity = cosine_similarity(word_vec, other_word_vec)\n",
    "            similarities[other_word] = similarity\n",
    "    sorted_similarities = sorted(similarities.items(), key=lambda item: item[1], reverse=True)\n",
    "    return sorted_similarities[:top_n]"
   ]
  },
  {
   "cell_type": "code",
   "execution_count": null,
   "metadata": {
    "colab": {
     "base_uri": "https://localhost:8080/"
    },
    "id": "tktbVCWaMwG3",
    "outputId": "a6b631fa-c118-4494-a35f-ca5233b59d7f"
   },
   "outputs": [
    {
     "name": "stdout",
     "output_type": "stream",
     "text": [
      "Top 2 similar words to 'violence': None\n"
     ]
    }
   ],
   "source": [
    "# Example: Find top 2 similar words to 'violence'\n",
    "similar_words = top_similar_words('violence', skip_gram_model)\n",
    "print(\"Top 2 similar words to 'violence':\", similar_words)"
   ]
  },
  {
   "cell_type": "code",
   "execution_count": null,
   "metadata": {
    "id": "SwmF26KpMz8T"
   },
   "outputs": [],
   "source": [
    "# Visualize a subset of vector embeddings in 2D semantic space using PCA\n",
    "words_to_visualize = ['violence', 'brutality', 'unflinching', 'scenes', 'oz', 'struck', 'first', 'thing']\n",
    "word_vectors = [skip_gram_model.wv[word] for word in words_to_visualize if word in skip_gram_model.wv.key_to_index]"
   ]
  },
  {
   "cell_type": "code",
   "execution_count": null,
   "metadata": {
    "id": "2aqnrIQEM6FD"
   },
   "outputs": [],
   "source": [
    "# Perform PCA for dimensionality reduction\n",
    "pca = PCA(n_components=2)\n",
    "pca_result = pca.fit_transform(word_vectors)"
   ]
  },
  {
   "cell_type": "code",
   "execution_count": null,
   "metadata": {
    "colab": {
     "base_uri": "https://localhost:8080/",
     "height": 641
    },
    "id": "XmSm45_HM9L4",
    "outputId": "e18befd6-864e-458f-8ea6-3ab437b57b24"
   },
   "outputs": [
    {
     "data": {
      "image/png": "[encoded data removed]",
      "text/plain": [
       "<Figure size 1000x700 with 1 Axes>"
      ]
     },
     "metadata": {},
     "output_type": "display_data"
    }
   ],
   "source": [
    "# Plot the results\n",
    "plt.figure(figsize=(10, 7))\n",
    "# Iterate over the word vectors and their corresponding words\n",
    "for i, (word, vector) in enumerate(zip(words_to_visualize, word_vectors)):\n",
    "    plt.scatter(pca_result[i, 0], pca_result[i, 1])\n",
    "    plt.annotate(word, (pca_result[i, 0], pca_result[i, 1]))\n",
    "\n",
    "plt.title(\"2D Visualization of Word Embeddings using PCA\")\n",
    "plt.xlabel(\"PCA Component 1\")\n",
    "plt.ylabel(\"PCA Component 2\")\n",
    "plt.grid(True)\n",
    "plt.show()"
   ]
  }
 ],
 "metadata": {
  "colab": {
   "provenance": []
  },
  "kernelspec": {
   "display_name": "Python 3 (ipykernel)",
   "language": "python",
   "name": "python3"
  },
  "language_info": {
   "codemirror_mode": {
    "name": "ipython",
    "version": 3
   },
   "file_extension": ".py",
   "mimetype": "text/x-python",
   "name": "python",
   "nbconvert_exporter": "python",
   "pygments_lexer": "ipython3",
   "version": "3.10.9"
  }
 },
 "nbformat": 4,
 "nbformat_minor": 1
}
