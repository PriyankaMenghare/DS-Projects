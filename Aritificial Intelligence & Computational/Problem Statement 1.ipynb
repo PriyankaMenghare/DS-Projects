{
 "cells": [
  {
   "cell_type": "markdown",
   "metadata": {
    "id": "MzZ4dJQYF7sH"
   },
   "source": [
    "# Artificial and Computational Intelligence Assignment 1"
   ]
  },
  {
   "cell_type": "markdown",
   "metadata": {
    "id": "Fxb1aE9zF7sK"
   },
   "source": [
    "## Problem solving by Uninformed & Informed Search"
   ]
  },
  {
   "cell_type": "markdown",
   "metadata": {
    "id": "pt5ygv_zF7sL"
   },
   "source": [
    "Things to follow\n",
    "1.\tUse appropriate data structures to represent the graph and the path using python libraries\n",
    "2.\tProvide proper documentation\n",
    "3.\tFind the path and print it"
   ]
  },
  {
   "cell_type": "markdown",
   "metadata": {
    "id": "wZfop5ElF7sL"
   },
   "source": [
    "Coding begins here"
   ]
  },
  {
   "cell_type": "markdown",
   "metadata": {
    "id": "IL0QDMy3F7sL"
   },
   "source": [
    "### 1.\tDefine the environment in the following block"
   ]
  },
  {
   "cell_type": "markdown",
   "metadata": {
    "id": "RYwJPNLIF7sM"
   },
   "source": [
    "List the PEAS decription of the problem here in this markdown block\n",
    "\n",
    "    \n",
    "#### Performance Measure: \n",
    "\n",
    "* Performance Measure is the cost of the optimal path found by the agent\n",
    "* Maximize Cost (Prefer Travelling in the order of safe places, flooded areas and water bodies).\n",
    "* Minimize Distance (Travel through less number of squares).\n",
    "* Reach the goal state by Maximizing Cost and Minimizing Distance.\n",
    "\n",
    "\n",
    "#### Environment: \n",
    "\n",
    "* 8*8 Grid-based representation of the city map with empty roads, water bodies, or flooded roads.\n",
    "* The environment is fully observable.\n",
    "* Cells are either empty, water bodies, or flooded roads.\n",
    "* Up, down, left, and right movement allowed (not diagonals).\n",
    "* The agent can travel through empty cells but not through the water bodies or flooded areas(blockades).\n",
    "\n",
    "#### Actuators: \n",
    "\n",
    "* The Agents movement in the north, south, east, and west directions (up, down, left, or right).\n",
    "\n",
    "#### Sensors: \n",
    "\n",
    "* The Agents vision sensors to detect empty roads, water bodies, or flooded roads.\n",
    "\n"
   ]
  },
  {
   "cell_type": "markdown",
   "metadata": {
    "id": "XJ3cHp1IF7sM"
   },
   "source": [
    "Design the agent as PSA Agent(Problem Solving Agent)\n",
    "Clear Initial data structures to define the graph and variable declarations is expected\n",
    "IMPORTATANT: Write distinct code block as below"
   ]
  },
  {
   "cell_type": "code",
   "execution_count": 1,
   "metadata": {
    "executionInfo": {
     "elapsed": 412,
     "status": "ok",
     "timestamp": 1708189105472,
     "user": {
      "displayName": "MONISHA M",
      "userId": "10333924810646303006"
     },
     "user_tz": -330
    },
    "id": "osp61RsLF7sN"
   },
   "outputs": [],
   "source": [
    "#Code Block : Set Initial State (Must handle dynamic inputs)\n",
    "\n",
    "import random\n",
    "import time\n",
    "\n",
    "POPULATION_SIZE = 50\n",
    "MUTATION_RATE = 0.1\n",
    "NUM_GENERATIONS = 100\n",
    "\n",
    "# . : Empty cell\n",
    "# W : Water body\n",
    "# F : Flooded area\n",
    "grid = [\n",
    "    ['.', '.', '.', '.', 'W', 'W', '.', '.'],\n",
    "    ['.', 'F', 'F', '.', '.', '.', '.', 'F'],\n",
    "    ['.', '.', '.', '.', '.', '.', '.', '.'],\n",
    "    ['W', 'W', '.', 'F', '.', '.', '.', '.'],\n",
    "    ['.', 'F', '.', '.', '.', '.', 'W', 'W'],\n",
    "    ['.', '.', '.', 'F', '.', '.', '.', '.'],\n",
    "    ['.', 'W', 'W', '.', '.', 'F', '.', '.'],\n",
    "    ['.', '.', '.', '.', '.', 'F', '.', '.']\n",
    "]"
   ]
  },
  {
   "cell_type": "code",
   "execution_count": 2,
   "metadata": {
    "executionInfo": {
     "elapsed": 1,
     "status": "ok",
     "timestamp": 1708189105889,
     "user": {
      "displayName": "MONISHA M",
      "userId": "10333924810646303006"
     },
     "user_tz": -330
    },
    "id": "XODwoWZ0F7sO"
   },
   "outputs": [],
   "source": [
    "#Code Block : Set the matrix for transition & cost (as relevant for the given problem)\n",
    "\n",
    "transitions = [(0, 1), (0, -1), (1, 0), (-1, 0)] # Right, Left, Down, Up\n",
    "\n",
    "transition_cost = [[0 for cell in row] for row in grid] # Cost Matrix\n",
    "\n",
    "for row in range(len(grid)):\n",
    "    for cell in range(len(grid[0])):\n",
    "        bonus = 0\n",
    "        penalty = 0\n",
    "        for dir in transitions:\n",
    "            neighbor = (row + dir[0], cell + dir[1])\n",
    "            if 0 <= neighbor[0] < len(grid) and 0 <= neighbor[1] < len(grid[0]):\n",
    "                if grid[neighbor[0]][neighbor[1]] == 'F':\n",
    "                    penalty += 3\n",
    "                elif grid[neighbor[0]][neighbor[1]] == 'W':\n",
    "                    penalty += 5\n",
    "                else:\n",
    "                    bonus += 5\n",
    "        transition_cost[row][cell] = bonus - penalty\n",
    "\n",
    "def heuristic(node, goal):\n",
    "    x1, y1 = node\n",
    "    x2, y2 = goal\n",
    "    distance = (abs(x1 - x2) + abs(y1 - y2))\n",
    "    return (distance) / transition_cost[x1][y1]"
   ]
  },
  {
   "cell_type": "code",
   "execution_count": 3,
   "metadata": {
    "executionInfo": {
     "elapsed": 1,
     "status": "ok",
     "timestamp": 1708189105889,
     "user": {
      "displayName": "MONISHA M",
      "userId": "10333924810646303006"
     },
     "user_tz": -330
    },
    "id": "ro24Gaj7F7sO"
   },
   "outputs": [],
   "source": [
    "#Code Block : Write function to design the Transition Model/Successor function. Ideally this would be called while search algorithms are implemented\n",
    "\n",
    "def transition_model(grid, node):\n",
    "    x, y = node\n",
    "    successors = []\n",
    "    for dir in transitions:\n",
    "        neighbor = (x + dir[0], y + dir[1])\n",
    "        if 0 <= neighbor[0] < len(grid) and 0 <= neighbor[1] < len(grid[0]):\n",
    "            if grid[neighbor[0]][neighbor[1]] != 'W' and grid[neighbor[0]][neighbor[1]] != 'F':\n",
    "                successors.append(neighbor)\n",
    "    return successors"
   ]
  },
  {
   "cell_type": "code",
   "execution_count": 4,
   "metadata": {
    "executionInfo": {
     "elapsed": 1,
     "status": "ok",
     "timestamp": 1708189105889,
     "user": {
      "displayName": "MONISHA M",
      "userId": "10333924810646303006"
     },
     "user_tz": -330
    },
    "id": "HIVPhrRWF7sO"
   },
   "outputs": [],
   "source": [
    "#Code block : Write fucntion to handle goal test (Must handle dynamic inputs). Ideally this would be called while search algorithms are implemented\n",
    "\n",
    "def goal_test(state, goal_state):\n",
    "    return state == goal_state"
   ]
  },
  {
   "cell_type": "markdown",
   "metadata": {
    "id": "Z4QwDeX5F7sO"
   },
   "source": [
    "### 2.\tDefinition of Algorithm 1 (Greedy Best-First Search)"
   ]
  },
  {
   "cell_type": "code",
   "execution_count": 5,
   "metadata": {
    "executionInfo": {
     "elapsed": 647,
     "status": "ok",
     "timestamp": 1708189106535,
     "user": {
      "displayName": "MONISHA M",
      "userId": "10333924810646303006"
     },
     "user_tz": -330
    },
    "id": "zD_EPCHWF7sO"
   },
   "outputs": [],
   "source": [
    "#Code Block : Function for algorithm 1 implementation\n",
    "\n",
    "# Greedy Best-First Search\n",
    "def greedy_best_first_search(grid, start, goal):\n",
    "    closed_list = set()\n",
    "    parent = {}\n",
    "    path_cost = {}\n",
    "    opened_list = [(heuristic(start, goal), start)] # List to store nodes to be expanded, initialized with start node\n",
    "    expanded_count = 0  \n",
    "    generated_count = 0  \n",
    "    max_queue_length = 0  \n",
    "    while opened_list:\n",
    "        max_queue_length = max(max_queue_length, len(opened_list))\n",
    "        opened_list.sort(key = lambda x: x[0]) # Sorts the list based on low heuristic / fitness value\n",
    "        cost, current_node = opened_list.pop(0) # Greedily select the node with lowest heuristic value\n",
    "        if goal_test(current_node, goal):\n",
    "            path = []\n",
    "            total_cost = 0\n",
    "            while current_node != start:\n",
    "                path.append(current_node)\n",
    "                total_cost += transition_cost[current_node[0]][current_node[1]]\n",
    "                current_node = parent[current_node]\n",
    "            path.append(start)\n",
    "            path.reverse()\n",
    "            return path, total_cost, expanded_count, generated_count, max_queue_length\n",
    "        closed_list.add(current_node)\n",
    "        expanded_count += 1  \n",
    "        for child in transition_model(grid, current_node):\n",
    "            generated_count += 1\n",
    "            heuristic_child = heuristic(child, goal)\n",
    "            if child not in closed_list and child not in list(map(lambda x: x[1], opened_list)):\n",
    "                parent[child] = current_node\n",
    "                path_cost[child] = heuristic_child\n",
    "                opened_list.append((heuristic_child, child))\n",
    "            elif child in list(map(lambda x: x[1], opened_list)) and parent[child] != current_node: \n",
    "            # If the child is in the opened list and its parent is different from the current node\n",
    "                index = list(map(lambda x: x[1], opened_list)).index(child)\n",
    "                if heuristic_child < opened_list[index][0]: # If the heuristic values of child is lower than the corresponding node in opened list\n",
    "                    parent[child] = current_node\n",
    "                    path_cost[child] = heuristic_child\n",
    "                    opened_list.append((heuristic_child, child))\n",
    "    return None, 0, expanded_count, generated_count, max_queue_length  # Path not found"
   ]
  },
  {
   "cell_type": "markdown",
   "metadata": {
    "id": "KnbdDl6HF7sO"
   },
   "source": [
    "### 3.\tDefinition of Algorithm 2 (Genetic Algorithm)"
   ]
  },
  {
   "cell_type": "code",
   "execution_count": 6,
   "metadata": {
    "executionInfo": {
     "elapsed": 5,
     "status": "ok",
     "timestamp": 1708189106535,
     "user": {
      "displayName": "MONISHA M",
      "userId": "10333924810646303006"
     },
     "user_tz": -330
    },
    "id": "3HYh7-eJF7sP"
   },
   "outputs": [],
   "source": [
    "#Code Block : Function for algorithm 2 implementation\n",
    "\n",
    "# Genetic Algorithm\n",
    "def genetic_algorithm(POPULATION_SIZE, grid, initial_state, goal_state):\n",
    "    \n",
    "    # Function to generate the initial population\n",
    "    def generate_population(population_size, grid, start, goal):\n",
    "        population = []\n",
    "        while len(population) != population_size:\n",
    "            individual = [start]\n",
    "            current_node = start\n",
    "            while current_node != goal:\n",
    "                possible_moves = []\n",
    "                for possible_move in transition_model(grid, current_node):\n",
    "                    if possible_move not in individual:\n",
    "                        possible_moves.append(possible_move)\n",
    "                if not possible_moves:\n",
    "                    break\n",
    "                current_node = random.choice(possible_moves)\n",
    "                individual.append(current_node)\n",
    "            if(goal in individual):\n",
    "                population.append(individual)\n",
    "        return population\n",
    "\n",
    "    # Function to get the best path from the population\n",
    "    def get_best_path(population):\n",
    "        fitness_scores = []\n",
    "        for individual in population:\n",
    "            visited = []\n",
    "            fitness_score =  0\n",
    "            total_cost = 0\n",
    "            for node in individual:\n",
    "                fitness_score += heuristic(node, end_state)\n",
    "                if node != start_state:\n",
    "                    total_cost += transition_cost[node[0]][node[1]]\n",
    "            fitness_scores.append((fitness_score, individual, total_cost))\n",
    "            best_node = min(fitness_scores, key=lambda fitness_scores: fitness_scores[0])\n",
    "        return best_node[0], best_node[1], total_cost\n",
    "\n",
    "    # Function for crossover operation\n",
    "    def crossover(parent1, parent2):\n",
    "        common_points = set(parent1) & set(parent2)\n",
    "        common_points = list(filter(lambda node: node!= start_state and node != end_state, list(common_points)))\n",
    "        if not common_points: # If no common points, return parents without crossover\n",
    "            return random.choice([parent1, parent2]) # Select a random common point for crossover\n",
    "        common_point = random.choice(common_points) # Perform crossover at the selected common point\n",
    "        child1 = parent1[:parent1.index(common_point)] + parent2[parent2.index(common_point):]\n",
    "        child2 = parent2[:parent2.index(common_point)] + parent1[parent1.index(common_point):]\n",
    "        return random.choice([child1, child2])\n",
    "\n",
    "    # Function for mutation operation\n",
    "    def mutate(path):\n",
    "        random_nodes = random.sample(path, k=2)\n",
    "        random_nodes.sort()\n",
    "        possible_changes = generate_population(5, grid, random_nodes[0], random_nodes[1])\n",
    "        mutate = random.choice(possible_changes)\n",
    "        start_idx = path.index(random_nodes[0])\n",
    "        end_idx = path.index(random_nodes[1])\n",
    "        del path[start_idx:end_idx+1]\n",
    "        for item in reversed(mutate):\n",
    "            path.insert(start_idx, item)\n",
    "        return path\n",
    "\n",
    "    # Function to run a single generation of the genetic algorithm\n",
    "    def run_generation(population):\n",
    "        # Run a single generation of the genetic algorithm\n",
    "        new_population = []\n",
    "        for i in range(len(population)):\n",
    "            parent1, parent2 = select_parents(population)\n",
    "            child = crossover(parent1, parent2)\n",
    "            if random.random() < MUTATION_RATE:\n",
    "                child = mutate(child)\n",
    "            new_population.append(child)\n",
    "        return new_population\n",
    "\n",
    "    # Function to select parents from the population\n",
    "    def select_parents(population):\n",
    "        # Select two parents from the population using tournament selection\n",
    "        f_score, parent1, total_cost = get_best_path(random.sample(population, k=5))\n",
    "        f_score, parent2, total_cost = get_best_path(random.sample(population, k=5))\n",
    "        return parent1, parent2\n",
    "    \n",
    "    population = generate_population(POPULATION_SIZE, grid, initial_state, goal_state)\n",
    "    f_score, best_path, total_cost = get_best_path(population)\n",
    "    fitness_history = [f_score]\n",
    "    generation_size = 0\n",
    "    # Running the genetic algorithm for a number of generations\n",
    "    for i in range(NUM_GENERATIONS):\n",
    "        population = run_generation(population)\n",
    "        f_score, best_path, total_cost = get_best_path(population)\n",
    "        fitness_history.append(f_score)\n",
    "        # Termination criteria: For last 25 generations, there is no improvement in chromosome fitness.\n",
    "        if len(fitness_history) > 25 and len(set(fitness_history[-25:])) <= 1:\n",
    "            break\n",
    "    return fitness_history[-1], best_path, total_cost, len(fitness_history)"
   ]
  },
  {
   "cell_type": "markdown",
   "metadata": {
    "id": "LEV2XHccF7sP"
   },
   "source": [
    "### DYNAMIC INPUT"
   ]
  },
  {
   "cell_type": "markdown",
   "metadata": {
    "id": "CylYRo_DF7sP"
   },
   "source": [
    "IMPORTANT : Dynamic Input must be got in this section. Display the possible states to choose from:\n",
    "This is applicable for all the relevent problems as mentioned in the question."
   ]
  },
  {
   "cell_type": "code",
   "execution_count": 7,
   "metadata": {
    "colab": {
     "base_uri": "https://localhost:8080/"
    },
    "executionInfo": {
     "elapsed": 9394,
     "status": "ok",
     "timestamp": 1708189115924,
     "user": {
      "displayName": "MONISHA M",
      "userId": "10333924810646303006"
     },
     "user_tz": -330
    },
    "id": "Q5t1Lc-wF7sP",
    "outputId": "cf44fc10-97ab-482c-c52a-983415147f48"
   },
   "outputs": [
    {
     "name": "stdout",
     "output_type": "stream",
     "text": [
      "Possible States: \n",
      "\n",
      "1: (0, 0)\n",
      "2: (0, 1)\n",
      "3: (0, 2)\n",
      "4: (0, 3)\n",
      "5: (0, 6)\n",
      "6: (0, 7)\n",
      "7: (1, 0)\n",
      "8: (1, 3)\n",
      "9: (1, 4)\n",
      "10: (1, 5)\n",
      "11: (1, 6)\n",
      "12: (2, 0)\n",
      "13: (2, 1)\n",
      "14: (2, 2)\n",
      "15: (2, 3)\n",
      "16: (2, 4)\n",
      "17: (2, 5)\n",
      "18: (2, 6)\n",
      "19: (2, 7)\n",
      "20: (3, 2)\n",
      "21: (3, 4)\n",
      "22: (3, 5)\n",
      "23: (3, 6)\n",
      "24: (3, 7)\n",
      "25: (4, 0)\n",
      "26: (4, 2)\n",
      "27: (4, 3)\n",
      "28: (4, 4)\n",
      "29: (4, 5)\n",
      "30: (5, 0)\n",
      "31: (5, 1)\n",
      "32: (5, 2)\n",
      "33: (5, 4)\n",
      "34: (5, 5)\n",
      "35: (5, 6)\n",
      "36: (5, 7)\n",
      "37: (6, 0)\n",
      "38: (6, 3)\n",
      "39: (6, 4)\n",
      "40: (6, 6)\n",
      "41: (6, 7)\n",
      "42: (7, 0)\n",
      "43: (7, 1)\n",
      "44: (7, 2)\n",
      "45: (7, 3)\n",
      "46: (7, 4)\n",
      "47: (7, 6)\n",
      "48: (7, 7)\n"
     ]
    },
    {
     "name": "stdout",
     "output_type": "stream",
     "text": [
      "Please Select Start State from the Possible states:  1\n",
      "Please Select End State from the Possible states:  48\n"
     ]
    },
    {
     "name": "stdout",
     "output_type": "stream",
     "text": [
      "Start State (0, 0)\n",
      "Goal State (7, 7)\n"
     ]
    }
   ],
   "source": [
    "#Code Block : Function & call to get inputs (start/end state)\n",
    "\n",
    "possible_states = []\n",
    "for row in range(len(grid)):\n",
    "    for cell in range(len(grid[0])):\n",
    "        if(grid[row][cell] == '.'):\n",
    "            possible_states.append((row,cell))\n",
    "\n",
    "def get_state_input(state):\n",
    "    choice = input(f\"Please Select {state} from the Possible states: \")\n",
    "    while not choice.isdigit() or int(choice) - 1 < 0 or int(choice) - 1 >= len(possible_states):\n",
    "        print(f\"Invalid State. Please enter a valid {state} from possible states.\")\n",
    "        choice = input(f\"Please Select {state} from the Possible states: \")\n",
    "    return possible_states[int(choice) - 1]\n",
    "\n",
    "print(\"Possible States: \", end=\"\\n\\n\")\n",
    "\n",
    "for index, state in enumerate(possible_states):\n",
    "    print(f\"{index+1}: {state}\")\n",
    "\n",
    "start_state = get_state_input(\"Start State\")\n",
    "end_state = get_state_input(\"End State\")\n",
    "\n",
    "print(\"Start State\", start_state)\n",
    "print(\"Goal State\", end_state)"
   ]
  },
  {
   "cell_type": "markdown",
   "metadata": {
    "id": "xsfOP81lF7sP"
   },
   "source": [
    "### 4.\tCalling the search algorithms\n",
    "(For bidirectional search in below sections first part can be used as per Hint provided. Under second section other combinations as per Hint or your choice of 2 algorithms can be called .As an analyst suggest suitable approximation in the comparitive analysis section)"
   ]
  },
  {
   "cell_type": "code",
   "execution_count": 8,
   "metadata": {
    "colab": {
     "base_uri": "https://localhost:8080/"
    },
    "executionInfo": {
     "elapsed": 12,
     "status": "ok",
     "timestamp": 1708189115924,
     "user": {
      "displayName": "MONISHA M",
      "userId": "10333924810646303006"
     },
     "user_tz": -330
    },
    "id": "Og5zI9thF7sP",
    "outputId": "9c68e44a-eadd-4a80-fbae-1d2fc1c40b29"
   },
   "outputs": [
    {
     "name": "stdout",
     "output_type": "stream",
     "text": [
      "Path: [(0, 0), (0, 1), (0, 2), (0, 3), (1, 3), (2, 3), (2, 4), (2, 5), (3, 5), (4, 5), (5, 5), (5, 6), (6, 6), (6, 7), (7, 7)]\n",
      "Cost: 172\n",
      "\n",
      "Path Visualization:\n",
      "['*', '*', '*', '*', 'W', 'W', '.', '.']\n",
      "['.', 'F', 'F', '*', '.', '.', '.', 'F']\n",
      "['.', '.', '.', '*', '*', '*', '.', '.']\n",
      "['W', 'W', '.', 'F', '.', '*', '.', '.']\n",
      "['.', 'F', '.', '.', '.', '*', 'W', 'W']\n",
      "['.', '.', '.', 'F', '.', '*', '*', '.']\n",
      "['.', 'W', 'W', '.', '.', 'F', '*', '*']\n",
      "['.', '.', '.', '.', '.', 'F', '.', '*']\n"
     ]
    }
   ],
   "source": [
    "#Invoke algorithm 1 (Should Print the solution, path, cost etc., (As mentioned in the problem))\n",
    "\n",
    "gbs_start_time = time.time()\n",
    "path, total_cost, expanded_count, generated_count, max_queue_length = greedy_best_first_search(grid, start_state, end_state)\n",
    "gbs_time_taken = time.time() - gbs_start_time\n",
    "\n",
    "if path:\n",
    "    print(\"Path:\", path)\n",
    "    print(\"Cost:\", total_cost, end ='\\n\\n')\n",
    "    print(\"Path Visualization:\")\n",
    "    for i in range(len(grid)):\n",
    "        row = [c for c in grid[i]]\n",
    "        for j in range(len(grid[0])):\n",
    "            if (i,j) in path:\n",
    "                row[j] = '*'\n",
    "        print(row)\n",
    "\n",
    "else:\n",
    "    print(\"Path Not found.\")"
   ]
  },
  {
   "cell_type": "code",
   "execution_count": 9,
   "metadata": {
    "colab": {
     "base_uri": "https://localhost:8080/"
    },
    "executionInfo": {
     "elapsed": 641,
     "status": "ok",
     "timestamp": 1708189116563,
     "user": {
      "displayName": "MONISHA M",
      "userId": "10333924810646303006"
     },
     "user_tz": -330
    },
    "id": "u3MJeA6eF7sP",
    "outputId": "cd3f93c7-7ff7-4056-fa17-48f5b2c8816a"
   },
   "outputs": [
    {
     "name": "stdout",
     "output_type": "stream",
     "text": [
      "Path: [(0, 0), (0, 1), (0, 2), (0, 3), (1, 3), (2, 3), (2, 4), (3, 4), (4, 4), (5, 4), (5, 5), (5, 6), (6, 6), (6, 7), (7, 7)]\n",
      "Fitness Score: 11.321428571428573\n",
      "Cost: 166\n",
      "\n",
      "Path Visualization:\n",
      "['*', '*', '*', '*', 'W', 'W', '.', '.']\n",
      "['.', 'F', 'F', '*', '.', '.', '.', 'F']\n",
      "['.', '.', '.', '*', '*', '.', '.', '.']\n",
      "['W', 'W', '.', 'F', '*', '.', '.', '.']\n",
      "['.', 'F', '.', '.', '*', '.', 'W', 'W']\n",
      "['.', '.', '.', 'F', '*', '*', '*', '.']\n",
      "['.', 'W', 'W', '.', '.', 'F', '*', '*']\n",
      "['.', '.', '.', '.', '.', 'F', '.', '*']\n"
     ]
    }
   ],
   "source": [
    "#Invoke algorithm 2 (Should Print the solution, path, cost etc., (As mentioned in the problem))\n",
    "\n",
    "ga_start_time = time.time()\n",
    "\n",
    "fitness, path, total_cost, generations_taken = genetic_algorithm(POPULATION_SIZE, grid, start_state, end_state)\n",
    "\n",
    "ga_time_taken = time.time() - ga_start_time\n",
    "\n",
    "if path:\n",
    "    print(\"Path:\", path)\n",
    "    print(\"Fitness Score:\", fitness)\n",
    "    print(\"Cost:\", total_cost, end ='\\n\\n')\n",
    "    print(\"Path Visualization:\")\n",
    "    for i in range(len(grid)):\n",
    "        row = [c for c in grid[i]]\n",
    "        for j in range(len(grid[0])):\n",
    "            if (i,j) in path:\n",
    "                row[j] = '*'\n",
    "        print(row)\n",
    "else:\n",
    "    print(\"No path found.\")"
   ]
  },
  {
   "cell_type": "markdown",
   "metadata": {
    "id": "TOU3Rem6F7sQ"
   },
   "source": [
    "### 5.\tComparitive Analysis"
   ]
  },
  {
   "cell_type": "code",
   "execution_count": 10,
   "metadata": {
    "executionInfo": {
     "elapsed": 1,
     "status": "ok",
     "timestamp": 1708189116563,
     "user": {
      "displayName": "MONISHA M",
      "userId": "10333924810646303006"
     },
     "user_tz": -330
    },
    "id": "HG6fWwiIF7sQ"
   },
   "outputs": [
    {
     "name": "stdout",
     "output_type": "stream",
     "text": [
      "Expanded: 18\n",
      "Generated: 54\n",
      "Max Queue Length: 13\n",
      "Execution Time: 0.0002696514129638672\n"
     ]
    }
   ],
   "source": [
    "#Code Block : Print the Time & Space complexity of algorithm 1 (Greedy Best First Search Algorithm)\n",
    "\n",
    "# Space Complexity\n",
    "print(\"Expanded:\", expanded_count)\n",
    "print(\"Generated:\", generated_count)\n",
    "print(\"Max Queue Length:\", max_queue_length)\n",
    "\n",
    "# Time Complexity\n",
    "print(\"Execution Time:\", gbs_time_taken)"
   ]
  },
  {
   "cell_type": "code",
   "execution_count": 11,
   "metadata": {
    "executionInfo": {
     "elapsed": 2,
     "status": "ok",
     "timestamp": 1708189116564,
     "user": {
      "displayName": "MONISHA M",
      "userId": "10333924810646303006"
     },
     "user_tz": -330
    },
    "id": "xMButLKCF7sQ"
   },
   "outputs": [
    {
     "name": "stdout",
     "output_type": "stream",
     "text": [
      "Population Size: 50\n",
      "Number of Generations: 27\n",
      "Execution Time: 0.2761383056640625\n"
     ]
    }
   ],
   "source": [
    "#Code Block : Print the Time & Space complexity of algorithm 2 (Genetic Algorithm)\n",
    "\n",
    "# Space Complexity\n",
    "print(\"Population Size:\", POPULATION_SIZE)\n",
    "print(\"Number of Generations:\", generations_taken)\n",
    "\n",
    "# Time Complexity\n",
    "print(\"Execution Time:\", ga_time_taken)"
   ]
  },
  {
   "cell_type": "markdown",
   "metadata": {
    "id": "y2nXwAlsF7sQ"
   },
   "source": [
    "### 6.\tProvide your comparitive analysis or findings in no more than 3 lines in below section"
   ]
  },
  {
   "cell_type": "markdown",
   "metadata": {
    "id": "si483-zoF7sQ"
   },
   "source": [
    "Comparison : The greedy best-first search algorithm has lower space and time complexity with fewer expansions, and shorter execution time compared to the genetic algorithm, which requires larger population and generations leading to higher execution time. The genetic algorithm's execution time is approximately 200 % higher than that of the greedy best-first search algorithm."
   ]
  }
 ],
 "metadata": {
  "colab": {
   "provenance": []
  },
  "environment": {
   "kernel": "conda-root-py",
   "name": "workbench-notebooks.m113",
   "type": "gcloud",
   "uri": "gcr.io/deeplearning-platform-release/workbench-notebooks:m113"
  },
  "kernelspec": {
   "display_name": "Python 3 (ipykernel) (Local)",
   "language": "python",
   "name": "conda-root-py"
  },
  "language_info": {
   "codemirror_mode": {
    "name": "ipython",
    "version": 3
   },
   "file_extension": ".py",
   "mimetype": "text/x-python",
   "name": "python",
   "nbconvert_exporter": "python",
   "pygments_lexer": "ipython3",
   "version": "3.10.13"
  }
 },
 "nbformat": 4,
 "nbformat_minor": 4
}
