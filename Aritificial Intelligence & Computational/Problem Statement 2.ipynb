{
 "cells": [
  {
   "cell_type": "markdown",
   "id": "349b329b",
   "metadata": {
    "id": "349b329b"
   },
   "source": [
    "## Artificial and Computational Intelligence Assignment 2"
   ]
  },
  {
   "cell_type": "markdown",
   "id": "ef73df95",
   "metadata": {
    "id": "ef73df95"
   },
   "source": [
    "## Gaming with Min-Max Algorithm - Solution template"
   ]
  },
  {
   "cell_type": "markdown",
   "id": "d6f97bd9",
   "metadata": {
    "id": "d6f97bd9"
   },
   "source": [
    "# Things to follow\n",
    "\n",
    "1. Use appropriate data structures to represent the graph using python libraries\n",
    "2. Provide proper documentation\n",
    "3. Create neat solution without error during game playing"
   ]
  },
  {
   "cell_type": "markdown",
   "id": "9c8fc7c1",
   "metadata": {
    "id": "9c8fc7c1"
   },
   "source": [
    "### Coding begins here"
   ]
  },
  {
   "cell_type": "markdown",
   "id": "ae16f9ad",
   "metadata": {
    "id": "ae16f9ad"
   },
   "source": [
    "### PEAS - Data structures and fringes that define the Agent environment goes here"
   ]
  },
  {
   "cell_type": "markdown",
   "id": "RzAVWHmNYBwm",
   "metadata": {
    "id": "RzAVWHmNYBwm"
   },
   "source": [
    "#### Performance Measure:\n",
    "\n",
    "* Performance can be measured by how well a player did can be quantified as:\n",
    "\n",
    "  * Win, if one player’s sum is greater than the other.\n",
    "\n",
    "  * Tie, if both players have equal sums.\n",
    "\n",
    "  * Loss, if none of the above two conditions are met.\n",
    "\n",
    "* Another way to measure the performance would be the difference between the sums.\n",
    "\n",
    "\n",
    "\n",
    "#### Environment:\n",
    "\n",
    "* The environment is a collection of natural numbers from {1, 2, 3,…., n} where n is agreed upon before playing.\n",
    "\n",
    "* Each player’s choice removes numbers from this set thereby affecting its state.\n",
    "\n",
    "* The environment does not change during play but the state changes over time as players make their choices.\n",
    "\n",
    "#### Actuators:\n",
    "\n",
    "* Actuators are the mechanisms through which players interact with the environment by choosing numbers.\n",
    "* Players take turns choosing numbers from the set of available numbers.\n",
    "\n",
    "\n",
    "#### Sensors:\n",
    "\n",
    "* Sensors would monitor the:\n",
    "\n",
    "  * The set of available free numbers after each player's time for playing ends.\n",
    "\n",
    "  * Sum of each player.\n",
    "\n",
    "  * The choices made by the opponent."
   ]
  },
  {
   "cell_type": "markdown",
   "id": "979b8c3b",
   "metadata": {
    "id": "979b8c3b"
   },
   "source": [
    "### Implementation of the Min-Max algorithm"
   ]
  },
  {
   "cell_type": "code",
   "execution_count": 2,
   "id": "3e2fd5c8",
   "metadata": {
    "executionInfo": {
     "elapsed": 632,
     "status": "ok",
     "timestamp": 1711140751096,
     "user": {
      "displayName": "MONISHA M",
      "userId": "10333924810646303006"
     },
     "user_tz": -330
    },
    "id": "3e2fd5c8"
   },
   "outputs": [],
   "source": [
    "import random\n",
    "import math\n",
    "\n",
    "def get_available_moves(numbers, threshold, result=[], current_sum=0, start_index=0, combination=[]):\n",
    "  # Base case: if current sum exceeds threshold or if combination sums up to threshold, add combination to result\n",
    "    if (current_sum > threshold) or (len(combination) >= 1 and current_sum == threshold):\n",
    "        result.append(combination[:])\n",
    "        return\n",
    "\n",
    "    # Iterate through all numbers starting from start_index\n",
    "    for i in range(start_index, len(numbers)):\n",
    "        combination.append(numbers[i])\n",
    "        # Recursive call to explore next moves\n",
    "        get_available_moves(numbers, threshold, result, current_sum + numbers[i], i + 1, combination)\n",
    "        combination.pop() # Backtrack: remove last number to try other combinations\n",
    "    return result if result else [numbers] # If no valid moves found, return the original list\n",
    "\n",
    "# Minimax algorithm implementation\n",
    "def min_max(nums, min_score, max_score, is_Max):\n",
    "    heuristic = max_score - min_score # Heuristic evaluation for the current state\n",
    "\n",
    "    if not nums: # Base case: if there are no more numbers left, return heuristic value\n",
    "      return heuristic\n",
    "\n",
    "    # If it's the maximizing player's turn\n",
    "    if (is_Max) :\n",
    "        best = -math.inf # Initialize best score to negative infinity\n",
    "        # Get all available moves for the maximizing player\n",
    "        moves = get_available_moves(nums, min_score, [], max_score)\n",
    "        for move in moves:\n",
    "            total = 0\n",
    "            for num in move:\n",
    "              total += num # Calculate total sum of the current player\n",
    "            best = max(best, min_max([x for x in nums if x not in move],\n",
    "                                              min_score, (max_score + total),\n",
    "                                              not is_Max))\n",
    "        return best\n",
    "\n",
    "    # If it's the minimizing player's turn\n",
    "    else :\n",
    "        best = math.inf # Initialize best score to positive infinity\n",
    "        # Get all available moves for the minimizing player\n",
    "        moves = get_available_moves(nums, max_score, [], min_score)\n",
    "        for move in moves:\n",
    "            total = 0\n",
    "            for num in move:\n",
    "              total += num\n",
    "            best = min(best, min_max([x for x in nums if x not in move],\n",
    "                                              min_score + total, max_score,\n",
    "                                              not is_Max))\n",
    "        return best\n",
    "\n",
    "def CatchUpGame(n):\n",
    "    nums = list(range(1, n + 1))  # Create a list of numbers from 1 to n\n",
    "    p1_score = 0\n",
    "    p2_score = 0\n",
    "    player = 1\n",
    "    while nums: # While there are numbers left to choose from\n",
    "        if(player == 1):\n",
    "          while True and nums:\n",
    "            print(f\"\\nUser's Turn\")\n",
    "            print('Available Numbers: ', nums)\n",
    "            p1_choice = int(input(\"Enter choice within available numbers: \"))\n",
    "            while p1_choice not in nums:  # Validate user's choice\n",
    "              print('Invalid Choice!')\n",
    "              p1_choice = int(input(\"Enter choice within available numbers: \"))\n",
    "            print(\"User selected:\", p1_choice)\n",
    "            nums.remove(p1_choice)\n",
    "            p1_score += p1_choice\n",
    "            print(\"User's Score:\", p1_score)\n",
    "            if(p1_score >= p2_score): # If player 1's score is greater than or equal to player 2's score, then change turns\n",
    "              break\n",
    "        if(player == 2):\n",
    "            print(f\"\\nAI's Turn\")\n",
    "            bestVal = -math.inf\n",
    "            best_subset = []\n",
    "            # Get all available moves for AI based on User's score and AI's score\n",
    "            moves = get_available_moves(nums, p1_score, [], p2_score)\n",
    "            for move in moves:\n",
    "                total = 0\n",
    "                for num in move:\n",
    "                  total += num\n",
    "                best = min_max([x for x in nums if x not in move],\n",
    "                                                  p1_score, p2_score + total,\n",
    "                                                  False)\n",
    "                if (best > bestVal) :\n",
    "                    best_subset = move\n",
    "                    bestVal = best\n",
    "\n",
    "            p2_choice = best_subset # AI's choice is the best subset found\n",
    "            for choice in p2_choice:\n",
    "              print(\"AI selected:\", choice)\n",
    "              nums.remove(choice)\n",
    "              p2_score += choice\n",
    "            print(\"AI's Score:\", p2_score)\n",
    "        player = 3 - player  # Switch player (1 to 2, 2 to 1)\n",
    "    return p1_score, p2_score # Return final scores for both players"
   ]
  },
  {
   "cell_type": "markdown",
   "id": "c158f4a2",
   "metadata": {
    "id": "c158f4a2"
   },
   "source": [
    "### Choice and implementation of the Static Evaluation Function."
   ]
  },
  {
   "cell_type": "code",
   "execution_count": 3,
   "id": "ad3cab97",
   "metadata": {
    "colab": {
     "base_uri": "https://localhost:8080/"
    },
    "executionInfo": {
     "elapsed": 20680,
     "status": "ok",
     "timestamp": 1711140912163,
     "user": {
      "displayName": "MONISHA M",
      "userId": "10333924810646303006"
     },
     "user_tz": -330
    },
    "id": "ad3cab97",
    "outputId": "951dd120-a48b-442a-faa3-c4fe99be3fa6"
   },
   "outputs": [
    {
     "name": "stdout",
     "output_type": "stream",
     "text": [
      "Enter highest natural number(n): 10\n",
      "\n",
      "User's Turn\n",
      "Available Numbers:  [1, 2, 3, 4, 5, 6, 7, 8, 9, 10]\n",
      "Enter choice within available numbers: 10\n",
      "User selected: 10\n",
      "User's Score: 10\n",
      "\n",
      "AI's Turn\n",
      "AI selected: 1\n",
      "AI selected: 2\n",
      "AI selected: 3\n",
      "AI selected: 6\n",
      "AI's Score: 12\n",
      "\n",
      "User's Turn\n",
      "Available Numbers:  [4, 5, 7, 8, 9]\n",
      "Enter choice within available numbers: 8\n",
      "User selected: 8\n",
      "User's Score: 18\n",
      "\n",
      "AI's Turn\n",
      "AI selected: 4\n",
      "AI selected: 5\n",
      "AI's Score: 21\n",
      "\n",
      "User's Turn\n",
      "Available Numbers:  [7, 9]\n",
      "Enter choice within available numbers: 9\n",
      "User selected: 9\n",
      "User's Score: 27\n",
      "\n",
      "AI's Turn\n",
      "AI selected: 7\n",
      "AI's Score: 28\n",
      "\n",
      "Final scores:\n",
      "User's Score: 27\n",
      "AI's Score: 28 \n",
      "\n",
      "AI Won!\n"
     ]
    }
   ],
   "source": [
    "n = int(input(\"Enter highest natural number(n): \"))\n",
    "p1_score,p2_score = CatchUpGame(n)\n",
    "print(\"\\nFinal scores:\")\n",
    "print(\"User's Score:\", p1_score)\n",
    "print(\"AI's Score:\", p2_score, \"\\n\")\n",
    "if p1_score > p2_score:\n",
    "  print(\"User Won!\")\n",
    "elif p1_score < p2_score:\n",
    "    print(\"AI Won!\")\n",
    "else:\n",
    "    print(\"It's a tie!\")"
   ]
  }
 ],
 "metadata": {
  "colab": {
   "provenance": []
  },
  "kernelspec": {
   "display_name": "Python 3",
   "language": "python",
   "name": "python3"
  },
  "language_info": {
   "codemirror_mode": {
    "name": "ipython",
    "version": 3
   },
   "file_extension": ".py",
   "mimetype": "text/x-python",
   "name": "python",
   "nbconvert_exporter": "python",
   "pygments_lexer": "ipython3",
   "version": "3.8.8"
  }
 },
 "nbformat": 4,
 "nbformat_minor": 5
}
